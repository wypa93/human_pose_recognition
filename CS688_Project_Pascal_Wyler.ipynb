{
  "nbformat": 4,
  "nbformat_minor": 0,
  "metadata": {
    "colab": {
      "name": "CS688_Project_Pascal_Wyler.ipynb",
      "provenance": [],
      "collapsed_sections": [
        "wpuLOROfh2xM",
        "_ymx7ff_RqE5",
        "R8Rnudbm9zIr",
        "BpH20wAug0-J",
        "IGbCKEAeMXzW",
        "IBs4guxDyiIK"
      ],
      "authorship_tag": "ABX9TyNLhY7u41LQn9H0lWHi8a9n",
      "include_colab_link": true
    },
    "kernelspec": {
      "name": "python3",
      "display_name": "Python 3"
    },
    "language_info": {
      "name": "python"
    }
  },
  "cells": [
    {
      "cell_type": "markdown",
      "metadata": {
        "id": "view-in-github",
        "colab_type": "text"
      },
      "source": [
        "<a href=\"https://colab.research.google.com/github/wypa93/human_pose_recognition/blob/main/CS688_Project_Pascal_Wyler.ipynb\" target=\"_parent\"><img src=\"https://colab.research.google.com/assets/colab-badge.svg\" alt=\"Open In Colab\"/></a>"
      ]
    },
    {
      "cell_type": "markdown",
      "source": [
        "## Load Dependencies"
      ],
      "metadata": {
        "id": "wpuLOROfh2xM"
      }
    },
    {
      "cell_type": "code",
      "source": [
        "!pip install kaleido"
      ],
      "metadata": {
        "colab": {
          "base_uri": "https://localhost:8080/"
        },
        "id": "gFW7nMIadmCp",
        "outputId": "23f34254-b59b-4293-9af2-841a8db90e6d"
      },
      "execution_count": 3,
      "outputs": [
        {
          "output_type": "stream",
          "name": "stdout",
          "text": [
            "Collecting kaleido\n",
            "  Downloading kaleido-0.2.1-py2.py3-none-manylinux1_x86_64.whl (79.9 MB)\n",
            "\u001b[K     |████████████████████████████████| 79.9 MB 149 kB/s \n",
            "\u001b[?25hInstalling collected packages: kaleido\n",
            "Successfully installed kaleido-0.2.1\n"
          ]
        }
      ]
    },
    {
      "cell_type": "code",
      "execution_count": 4,
      "metadata": {
        "id": "pInKTbnqR-ux"
      },
      "outputs": [],
      "source": [
        "#load dependencies\n",
        "import numpy as np\n",
        "import pandas as pd\n",
        "import matplotlib.pyplot as plt\n",
        "from google.colab import drive\n",
        "import plotly.graph_objects as go\n",
        "import plotly.express as px\n",
        "import kaleido\n",
        "import imageio\n",
        "import ast\n",
        "import re\n",
        "import os\n",
        "import statistics"
      ]
    },
    {
      "cell_type": "markdown",
      "source": [
        "## Question 1 - Load and Visualize Motion Data (Enhanced Code with methods)"
      ],
      "metadata": {
        "id": "_ymx7ff_RqE5"
      }
    },
    {
      "cell_type": "code",
      "source": [
        "#load data\n",
        "drive.mount('/content/drive/')\n",
        "df = pd.read_csv('/content/drive/MyDrive/Boston University /CS688_Web_Analytics/Assignments/Project/motion_data.csv')\n",
        "cols = df.columns\n",
        "df_idx = df.index\n",
        "\n",
        "#transform strings to numeric values\n",
        "for colname in df.columns[1:]:\n",
        "    for i in range(len(df)):\n",
        "        df[colname][i] = np.asarray(ast.literal_eval(df[colname][i]))\n",
        "\n",
        "#generate new folder frames\n",
        "newpath = r'frames'\n",
        "if not os.path.exists(newpath):\n",
        "  os.makedirs(newpath)"
      ],
      "metadata": {
        "id": "1KT5ZjMIR2UN",
        "colab": {
          "base_uri": "https://localhost:8080/"
        },
        "outputId": "2698849d-1060-4fa1-cc4c-614c803b212b"
      },
      "execution_count": 7,
      "outputs": [
        {
          "output_type": "stream",
          "name": "stdout",
          "text": [
            "Mounted at /content/drive/\n"
          ]
        }
      ]
    },
    {
      "cell_type": "code",
      "source": [
        "######### transform data and generate additional data points for exercise ID #########\n",
        "def getExerciseData(exercise_id, data):\n",
        "  #define subset to get data for only one exercise\n",
        "  subset = data.iloc[exercise_id]\n",
        "\n",
        "  #separate xyz data points \n",
        "  x_data = subset[cols[1::3]]\n",
        "  y_data = subset[cols[2::3]]\n",
        "  z_data = subset[cols[3::3]]\n",
        "\n",
        "  #add spine data points (midpoint between shoulder and hips)\n",
        "  x_data['xX_midpoint_neck'] = (x_data.xX_left_shoulder+x_data.xX_right_shoulder)/2\n",
        "  x_data['xX_midpoint_hip'] = (x_data.xX_left_hip+x_data.xX_right_hip)/2\n",
        "  x_data['xX_midpoint_back'] = (x_data.xX_midpoint_neck+x_data.xX_midpoint_hip)/2\n",
        "\n",
        "  y_data['yY_midpoint_neck'] = (y_data.yY_left_shoulder+y_data.yY_right_shoulder)/2\n",
        "  y_data['yY_midpoint_hip'] = (y_data.yY_left_hip+y_data.yY_right_hip)/2\n",
        "  y_data['yY_midpoint_back'] = (y_data.yY_midpoint_neck+y_data.yY_midpoint_hip)/2\n",
        "\n",
        "  z_data['zZ_midpoint_neck'] = (z_data.zZ_left_shoulder+z_data.zZ_right_shoulder)/2\n",
        "  z_data['zZ_midpoint_hip'] = (z_data.zZ_left_hip+z_data.zZ_right_hip)/2\n",
        "  z_data['zZ_midpoint_back'] = (z_data.zZ_midpoint_neck+z_data.zZ_midpoint_hip)/2\n",
        "\n",
        "  #stack and reshape\n",
        "  x = np.stack(x_data).transpose()\n",
        "  y = np.stack(y_data).transpose()\n",
        "  z = np.stack(z_data).transpose()\n",
        "\n",
        "  #separate left and right body parts to draw line\n",
        "  #xline\n",
        "  x_left_line = np.stack(x_data[['xX_left_wrist','xX_left_elbow','xX_left_shoulder','xX_midpoint_neck','xX_midpoint_back','xX_midpoint_hip','xX_left_hip','xX_left_knee','xX_left_ankle']]).transpose()\n",
        "  x_right_line = np.stack(x_data[['xX_right_wrist','xX_right_elbow','xX_right_shoulder','xX_midpoint_neck','xX_midpoint_back','xX_midpoint_hip','xX_right_hip','xX_right_knee','xX_right_ankle']]).transpose()\n",
        "\n",
        "  #yline\n",
        "  y_left_line = np.stack(y_data[['yY_left_wrist','yY_left_elbow','yY_left_shoulder','yY_midpoint_neck','yY_midpoint_back','yY_midpoint_hip','yY_left_hip','yY_left_knee','yY_left_ankle']]).transpose()\n",
        "  y_right_line = np.stack(y_data[['yY_right_wrist','yY_right_elbow','yY_right_shoulder','yY_midpoint_neck','yY_midpoint_back','yY_midpoint_hip','yY_right_hip','yY_right_knee','yY_right_ankle']]).transpose()\n",
        "\n",
        "  #zline\n",
        "  z_left_line = np.stack(z_data[['zZ_left_wrist','zZ_left_elbow','zZ_left_shoulder','zZ_midpoint_neck','zZ_midpoint_back','zZ_midpoint_hip','zZ_left_hip','zZ_left_knee','zZ_left_ankle']]).transpose()\n",
        "  z_right_line = np.stack(z_data[['zZ_right_wrist','zZ_right_elbow','zZ_right_shoulder','zZ_midpoint_neck','zZ_midpoint_back','zZ_midpoint_hip','zZ_right_hip','zZ_right_knee','zZ_right_ankle']]).transpose()\n",
        "  return x_left_line, x_right_line, y_left_line, y_right_line, z_left_line, z_right_line, x, y, z\n",
        "\n",
        "\n",
        "######### visualize single frame #########\n",
        "def getVisualization(x_left_line, x_right_line, y_left_line, y_right_line, z_left_line, z_right_line):\n",
        "  fig = go.Figure(data=[go.Scatter3d(x=x_left_line[0]*-1, y=y_left_line[0]*-1, z=z_left_line[0]*-1)])\n",
        "  fig.add_trace(go.Scatter3d(x=x_right_line[0]*-1, y=y_right_line[0]*-1, z=z_right_line[0]*-1))\n",
        "\n",
        "  # tight layout\n",
        "  fig.update_layout(updatemenus=[dict(type='buttons',\n",
        "                    showactive=False,\n",
        "                    y=1,\n",
        "                    x=1,\n",
        "                    xanchor='left',\n",
        "                    yanchor='bottom',\n",
        "                    pad=dict(t=200, r=10))])\n",
        "  return fig\n",
        "\n",
        "\n",
        "\n",
        "######### generate GIF #########\n",
        "def getFrame(x_left_line, x_right_line, y_left_line, y_right_line, z_left_line, z_right_line,exercise_id):\n",
        "\n",
        "  #create new folder\n",
        "  newpath = r'frames/{}'.format(exercise_id)\n",
        "  if not os.path.exists(newpath):\n",
        "    os.makedirs(newpath)\n",
        "\n",
        "  for i in range(0,20):\n",
        "    #generate Frames\n",
        "    frame = go.Figure(data=[go.Scatter3d(x=x_left_line[i]*-1, y=y_left_line[i]*-1, z=z_left_line[i]*-1)])\n",
        "    frame.add_trace(go.Scatter3d(x=x_right_line[i]*-1, y=y_right_line[i]*-1, z=z_right_line[i]*-1))\n",
        "\n",
        "    #store Frames\n",
        "    frame.write_image(\"frames/{}/fig{}.png\".format(exercise_id,i))\n",
        "\n",
        "    #save frames as gif animation\n",
        "  images = []\n",
        "  for i in range(0,20):\n",
        "    images.append(imageio.imread(\"frames/{}/fig{}.png\".format(exercise_id,i)))\n",
        "  imageio.mimsave('frames/{}/movie.gif'.format(exercise_id), images)"
      ],
      "metadata": {
        "id": "Z7iqppOCL-dN"
      },
      "execution_count": 8,
      "outputs": []
    },
    {
      "cell_type": "code",
      "source": [
        "#define parameter 'exercise_id' and call functions\n",
        "exercise_id = 0\n",
        "x_left_line, x_right_line, y_left_line, y_right_line, z_left_line, z_right_line,x, y, z = getExerciseData(exercise_id,df)\n",
        "getVisualization(x_left_line, x_right_line, y_left_line, y_right_line, z_left_line, z_right_line).show()\n",
        "getFrame(x_left_line, x_right_line, y_left_line, y_right_line, z_left_line, z_right_line,exercise_id)"
      ],
      "metadata": {
        "id": "dUKFEvw4N8xx",
        "colab": {
          "base_uri": "https://localhost:8080/",
          "height": 542
        },
        "outputId": "bbe6f2c9-03a5-44c6-c1e4-338abc891c5d"
      },
      "execution_count": 13,
      "outputs": [
        {
          "output_type": "display_data",
          "data": {
            "text/html": [
              "<html>\n",
              "<head><meta charset=\"utf-8\" /></head>\n",
              "<body>\n",
              "    <div>            <script src=\"https://cdnjs.cloudflare.com/ajax/libs/mathjax/2.7.5/MathJax.js?config=TeX-AMS-MML_SVG\"></script><script type=\"text/javascript\">if (window.MathJax) {MathJax.Hub.Config({SVG: {font: \"STIX-Web\"}});}</script>                <script type=\"text/javascript\">window.PlotlyConfig = {MathJaxConfig: 'local'};</script>\n",
              "        <script src=\"https://cdn.plot.ly/plotly-2.8.3.min.js\"></script>                <div id=\"2e36da2a-5837-4bb6-83bc-87c9e9998296\" class=\"plotly-graph-div\" style=\"height:525px; width:100%;\"></div>            <script type=\"text/javascript\">                                    window.PLOTLYENV=window.PLOTLYENV || {};                                    if (document.getElementById(\"2e36da2a-5837-4bb6-83bc-87c9e9998296\")) {                    Plotly.newPlot(                        \"2e36da2a-5837-4bb6-83bc-87c9e9998296\",                        [{\"x\":[-0.2811128497123718,-0.45598286390304565,-0.6244075298309326,-0.6759145855903625,-0.5422263815999031,-0.40853817760944366,-0.3667226731777191,-0.2282884418964386,-0.06234923005104065],\"y\":[-0.7377592325210571,-0.7025633454322815,-0.6125868558883667,-0.6024641692638397,-0.6177443712949753,-0.6330245733261108,-0.653666615486145,-0.5061414241790771,-0.36329522728919983],\"z\":[0.8646690249443054,0.8455376625061035,0.7317232489585876,0.5044505745172501,0.25196507573127747,-0.0005204230546951294,0.14427363872528076,0.18987344205379486,0.06779885292053223],\"type\":\"scatter3d\"},{\"x\":[-0.856555163860321,-0.7777107954025269,-0.7274216413497925,-0.6759145855903625,-0.5422263815999031,-0.40853817760944366,-0.4503536820411682,-0.3456818461418152,-0.24116382002830505],\"y\":[-0.5313970446586609,-0.5838342308998108,-0.5923414826393127,-0.6024641692638397,-0.6177443712949753,-0.6330245733261108,-0.6123825311660767,-0.4793410003185272,-0.3432755172252655],\"z\":[-0.0931309312582016,0.12679839134216309,0.2771779000759125,0.5044505745172501,0.25196507573127747,-0.0005204230546951294,-0.14531448483467102,-0.25488728284835815,-0.41889476776123047],\"type\":\"scatter3d\"}],                        {\"template\":{\"data\":{\"bar\":[{\"error_x\":{\"color\":\"#2a3f5f\"},\"error_y\":{\"color\":\"#2a3f5f\"},\"marker\":{\"line\":{\"color\":\"#E5ECF6\",\"width\":0.5},\"pattern\":{\"fillmode\":\"overlay\",\"size\":10,\"solidity\":0.2}},\"type\":\"bar\"}],\"barpolar\":[{\"marker\":{\"line\":{\"color\":\"#E5ECF6\",\"width\":0.5},\"pattern\":{\"fillmode\":\"overlay\",\"size\":10,\"solidity\":0.2}},\"type\":\"barpolar\"}],\"carpet\":[{\"aaxis\":{\"endlinecolor\":\"#2a3f5f\",\"gridcolor\":\"white\",\"linecolor\":\"white\",\"minorgridcolor\":\"white\",\"startlinecolor\":\"#2a3f5f\"},\"baxis\":{\"endlinecolor\":\"#2a3f5f\",\"gridcolor\":\"white\",\"linecolor\":\"white\",\"minorgridcolor\":\"white\",\"startlinecolor\":\"#2a3f5f\"},\"type\":\"carpet\"}],\"choropleth\":[{\"colorbar\":{\"outlinewidth\":0,\"ticks\":\"\"},\"type\":\"choropleth\"}],\"contour\":[{\"colorbar\":{\"outlinewidth\":0,\"ticks\":\"\"},\"colorscale\":[[0.0,\"#0d0887\"],[0.1111111111111111,\"#46039f\"],[0.2222222222222222,\"#7201a8\"],[0.3333333333333333,\"#9c179e\"],[0.4444444444444444,\"#bd3786\"],[0.5555555555555556,\"#d8576b\"],[0.6666666666666666,\"#ed7953\"],[0.7777777777777778,\"#fb9f3a\"],[0.8888888888888888,\"#fdca26\"],[1.0,\"#f0f921\"]],\"type\":\"contour\"}],\"contourcarpet\":[{\"colorbar\":{\"outlinewidth\":0,\"ticks\":\"\"},\"type\":\"contourcarpet\"}],\"heatmap\":[{\"colorbar\":{\"outlinewidth\":0,\"ticks\":\"\"},\"colorscale\":[[0.0,\"#0d0887\"],[0.1111111111111111,\"#46039f\"],[0.2222222222222222,\"#7201a8\"],[0.3333333333333333,\"#9c179e\"],[0.4444444444444444,\"#bd3786\"],[0.5555555555555556,\"#d8576b\"],[0.6666666666666666,\"#ed7953\"],[0.7777777777777778,\"#fb9f3a\"],[0.8888888888888888,\"#fdca26\"],[1.0,\"#f0f921\"]],\"type\":\"heatmap\"}],\"heatmapgl\":[{\"colorbar\":{\"outlinewidth\":0,\"ticks\":\"\"},\"colorscale\":[[0.0,\"#0d0887\"],[0.1111111111111111,\"#46039f\"],[0.2222222222222222,\"#7201a8\"],[0.3333333333333333,\"#9c179e\"],[0.4444444444444444,\"#bd3786\"],[0.5555555555555556,\"#d8576b\"],[0.6666666666666666,\"#ed7953\"],[0.7777777777777778,\"#fb9f3a\"],[0.8888888888888888,\"#fdca26\"],[1.0,\"#f0f921\"]],\"type\":\"heatmapgl\"}],\"histogram\":[{\"marker\":{\"pattern\":{\"fillmode\":\"overlay\",\"size\":10,\"solidity\":0.2}},\"type\":\"histogram\"}],\"histogram2d\":[{\"colorbar\":{\"outlinewidth\":0,\"ticks\":\"\"},\"colorscale\":[[0.0,\"#0d0887\"],[0.1111111111111111,\"#46039f\"],[0.2222222222222222,\"#7201a8\"],[0.3333333333333333,\"#9c179e\"],[0.4444444444444444,\"#bd3786\"],[0.5555555555555556,\"#d8576b\"],[0.6666666666666666,\"#ed7953\"],[0.7777777777777778,\"#fb9f3a\"],[0.8888888888888888,\"#fdca26\"],[1.0,\"#f0f921\"]],\"type\":\"histogram2d\"}],\"histogram2dcontour\":[{\"colorbar\":{\"outlinewidth\":0,\"ticks\":\"\"},\"colorscale\":[[0.0,\"#0d0887\"],[0.1111111111111111,\"#46039f\"],[0.2222222222222222,\"#7201a8\"],[0.3333333333333333,\"#9c179e\"],[0.4444444444444444,\"#bd3786\"],[0.5555555555555556,\"#d8576b\"],[0.6666666666666666,\"#ed7953\"],[0.7777777777777778,\"#fb9f3a\"],[0.8888888888888888,\"#fdca26\"],[1.0,\"#f0f921\"]],\"type\":\"histogram2dcontour\"}],\"mesh3d\":[{\"colorbar\":{\"outlinewidth\":0,\"ticks\":\"\"},\"type\":\"mesh3d\"}],\"parcoords\":[{\"line\":{\"colorbar\":{\"outlinewidth\":0,\"ticks\":\"\"}},\"type\":\"parcoords\"}],\"pie\":[{\"automargin\":true,\"type\":\"pie\"}],\"scatter\":[{\"marker\":{\"colorbar\":{\"outlinewidth\":0,\"ticks\":\"\"}},\"type\":\"scatter\"}],\"scatter3d\":[{\"line\":{\"colorbar\":{\"outlinewidth\":0,\"ticks\":\"\"}},\"marker\":{\"colorbar\":{\"outlinewidth\":0,\"ticks\":\"\"}},\"type\":\"scatter3d\"}],\"scattercarpet\":[{\"marker\":{\"colorbar\":{\"outlinewidth\":0,\"ticks\":\"\"}},\"type\":\"scattercarpet\"}],\"scattergeo\":[{\"marker\":{\"colorbar\":{\"outlinewidth\":0,\"ticks\":\"\"}},\"type\":\"scattergeo\"}],\"scattergl\":[{\"marker\":{\"colorbar\":{\"outlinewidth\":0,\"ticks\":\"\"}},\"type\":\"scattergl\"}],\"scattermapbox\":[{\"marker\":{\"colorbar\":{\"outlinewidth\":0,\"ticks\":\"\"}},\"type\":\"scattermapbox\"}],\"scatterpolar\":[{\"marker\":{\"colorbar\":{\"outlinewidth\":0,\"ticks\":\"\"}},\"type\":\"scatterpolar\"}],\"scatterpolargl\":[{\"marker\":{\"colorbar\":{\"outlinewidth\":0,\"ticks\":\"\"}},\"type\":\"scatterpolargl\"}],\"scatterternary\":[{\"marker\":{\"colorbar\":{\"outlinewidth\":0,\"ticks\":\"\"}},\"type\":\"scatterternary\"}],\"surface\":[{\"colorbar\":{\"outlinewidth\":0,\"ticks\":\"\"},\"colorscale\":[[0.0,\"#0d0887\"],[0.1111111111111111,\"#46039f\"],[0.2222222222222222,\"#7201a8\"],[0.3333333333333333,\"#9c179e\"],[0.4444444444444444,\"#bd3786\"],[0.5555555555555556,\"#d8576b\"],[0.6666666666666666,\"#ed7953\"],[0.7777777777777778,\"#fb9f3a\"],[0.8888888888888888,\"#fdca26\"],[1.0,\"#f0f921\"]],\"type\":\"surface\"}],\"table\":[{\"cells\":{\"fill\":{\"color\":\"#EBF0F8\"},\"line\":{\"color\":\"white\"}},\"header\":{\"fill\":{\"color\":\"#C8D4E3\"},\"line\":{\"color\":\"white\"}},\"type\":\"table\"}]},\"layout\":{\"annotationdefaults\":{\"arrowcolor\":\"#2a3f5f\",\"arrowhead\":0,\"arrowwidth\":1},\"autotypenumbers\":\"strict\",\"coloraxis\":{\"colorbar\":{\"outlinewidth\":0,\"ticks\":\"\"}},\"colorscale\":{\"diverging\":[[0,\"#8e0152\"],[0.1,\"#c51b7d\"],[0.2,\"#de77ae\"],[0.3,\"#f1b6da\"],[0.4,\"#fde0ef\"],[0.5,\"#f7f7f7\"],[0.6,\"#e6f5d0\"],[0.7,\"#b8e186\"],[0.8,\"#7fbc41\"],[0.9,\"#4d9221\"],[1,\"#276419\"]],\"sequential\":[[0.0,\"#0d0887\"],[0.1111111111111111,\"#46039f\"],[0.2222222222222222,\"#7201a8\"],[0.3333333333333333,\"#9c179e\"],[0.4444444444444444,\"#bd3786\"],[0.5555555555555556,\"#d8576b\"],[0.6666666666666666,\"#ed7953\"],[0.7777777777777778,\"#fb9f3a\"],[0.8888888888888888,\"#fdca26\"],[1.0,\"#f0f921\"]],\"sequentialminus\":[[0.0,\"#0d0887\"],[0.1111111111111111,\"#46039f\"],[0.2222222222222222,\"#7201a8\"],[0.3333333333333333,\"#9c179e\"],[0.4444444444444444,\"#bd3786\"],[0.5555555555555556,\"#d8576b\"],[0.6666666666666666,\"#ed7953\"],[0.7777777777777778,\"#fb9f3a\"],[0.8888888888888888,\"#fdca26\"],[1.0,\"#f0f921\"]]},\"colorway\":[\"#636efa\",\"#EF553B\",\"#00cc96\",\"#ab63fa\",\"#FFA15A\",\"#19d3f3\",\"#FF6692\",\"#B6E880\",\"#FF97FF\",\"#FECB52\"],\"font\":{\"color\":\"#2a3f5f\"},\"geo\":{\"bgcolor\":\"white\",\"lakecolor\":\"white\",\"landcolor\":\"#E5ECF6\",\"showlakes\":true,\"showland\":true,\"subunitcolor\":\"white\"},\"hoverlabel\":{\"align\":\"left\"},\"hovermode\":\"closest\",\"mapbox\":{\"style\":\"light\"},\"paper_bgcolor\":\"white\",\"plot_bgcolor\":\"#E5ECF6\",\"polar\":{\"angularaxis\":{\"gridcolor\":\"white\",\"linecolor\":\"white\",\"ticks\":\"\"},\"bgcolor\":\"#E5ECF6\",\"radialaxis\":{\"gridcolor\":\"white\",\"linecolor\":\"white\",\"ticks\":\"\"}},\"scene\":{\"xaxis\":{\"backgroundcolor\":\"#E5ECF6\",\"gridcolor\":\"white\",\"gridwidth\":2,\"linecolor\":\"white\",\"showbackground\":true,\"ticks\":\"\",\"zerolinecolor\":\"white\"},\"yaxis\":{\"backgroundcolor\":\"#E5ECF6\",\"gridcolor\":\"white\",\"gridwidth\":2,\"linecolor\":\"white\",\"showbackground\":true,\"ticks\":\"\",\"zerolinecolor\":\"white\"},\"zaxis\":{\"backgroundcolor\":\"#E5ECF6\",\"gridcolor\":\"white\",\"gridwidth\":2,\"linecolor\":\"white\",\"showbackground\":true,\"ticks\":\"\",\"zerolinecolor\":\"white\"}},\"shapedefaults\":{\"line\":{\"color\":\"#2a3f5f\"}},\"ternary\":{\"aaxis\":{\"gridcolor\":\"white\",\"linecolor\":\"white\",\"ticks\":\"\"},\"baxis\":{\"gridcolor\":\"white\",\"linecolor\":\"white\",\"ticks\":\"\"},\"bgcolor\":\"#E5ECF6\",\"caxis\":{\"gridcolor\":\"white\",\"linecolor\":\"white\",\"ticks\":\"\"}},\"title\":{\"x\":0.05},\"xaxis\":{\"automargin\":true,\"gridcolor\":\"white\",\"linecolor\":\"white\",\"ticks\":\"\",\"title\":{\"standoff\":15},\"zerolinecolor\":\"white\",\"zerolinewidth\":2},\"yaxis\":{\"automargin\":true,\"gridcolor\":\"white\",\"linecolor\":\"white\",\"ticks\":\"\",\"title\":{\"standoff\":15},\"zerolinecolor\":\"white\",\"zerolinewidth\":2}}},\"updatemenus\":[{\"pad\":{\"r\":10,\"t\":200},\"showactive\":false,\"type\":\"buttons\",\"x\":1,\"xanchor\":\"left\",\"y\":1,\"yanchor\":\"bottom\"}]},                        {\"responsive\": true}                    ).then(function(){\n",
              "                            \n",
              "var gd = document.getElementById('2e36da2a-5837-4bb6-83bc-87c9e9998296');\n",
              "var x = new MutationObserver(function (mutations, observer) {{\n",
              "        var display = window.getComputedStyle(gd).display;\n",
              "        if (!display || display === 'none') {{\n",
              "            console.log([gd, 'removed!']);\n",
              "            Plotly.purge(gd);\n",
              "            observer.disconnect();\n",
              "        }}\n",
              "}});\n",
              "\n",
              "// Listen for the removal of the full notebook cells\n",
              "var notebookContainer = gd.closest('#notebook-container');\n",
              "if (notebookContainer) {{\n",
              "    x.observe(notebookContainer, {childList: true});\n",
              "}}\n",
              "\n",
              "// Listen for the clearing of the current output cell\n",
              "var outputEl = gd.closest('.output');\n",
              "if (outputEl) {{\n",
              "    x.observe(outputEl, {childList: true});\n",
              "}}\n",
              "\n",
              "                        })                };                            </script>        </div>\n",
              "</body>\n",
              "</html>"
            ]
          },
          "metadata": {}
        }
      ]
    },
    {
      "cell_type": "markdown",
      "source": [
        "## Question 1 - Load and Visualize Motion Data (GIF)"
      ],
      "metadata": {
        "id": "R8Rnudbm9zIr"
      }
    },
    {
      "cell_type": "code",
      "source": [
        "#load data\n",
        "drive.mount('/content/drive/')\n",
        "data = pd.read_csv('/content/drive/MyDrive/Boston University /CS688_Web_Analytics/Assignments/Project/motion_data.csv')\n",
        "cols = data.columns\n",
        "\n",
        "\n",
        "#generate new folder frames\n",
        "newpath = r'frames'\n",
        "if not os.path.exists(newpath):\n",
        "  os.makedirs(newpath)\n",
        "\n",
        "#transform strings to numeric values\n",
        "for colname in data.columns[1:]:\n",
        "    for i in range(len(data)):\n",
        "        data[colname][i] = np.asarray(ast.literal_eval(data[colname][i]))\n",
        "\n",
        "#define subset to get data for only one exercise\n",
        "subset = data.iloc[0]\n",
        "\n",
        "#separate xyz data points \n",
        "x_data = subset[cols[1::3]]\n",
        "y_data = subset[cols[2::3]]\n",
        "z_data = subset[cols[3::3]]\n",
        "\n",
        "#add spine data points (midpoint between shoulder and hips)\n",
        "x_data['xX_midpoint_neck'] = (x_data.xX_left_shoulder+x_data.xX_right_shoulder)/2\n",
        "x_data['xX_midpoint_hip'] = (x_data.xX_left_hip+x_data.xX_right_hip)/2\n",
        "x_data['xX_midpoint_back'] = (x_data.xX_midpoint_neck+x_data.xX_midpoint_hip)/2\n",
        "\n",
        "y_data['yY_midpoint_neck'] = (y_data.yY_left_shoulder+y_data.yY_right_shoulder)/2\n",
        "y_data['yY_midpoint_hip'] = (y_data.yY_left_hip+y_data.yY_right_hip)/2\n",
        "y_data['yY_midpoint_back'] = (y_data.yY_midpoint_neck+y_data.yY_midpoint_hip)/2\n",
        "\n",
        "z_data['zZ_midpoint_neck'] = (z_data.zZ_left_shoulder+z_data.zZ_right_shoulder)/2\n",
        "z_data['zZ_midpoint_hip'] = (z_data.zZ_left_hip+z_data.zZ_right_hip)/2\n",
        "z_data['zZ_midpoint_back'] = (z_data.zZ_midpoint_neck+z_data.zZ_midpoint_hip)/2\n",
        "\n",
        "#stack and reshape\n",
        "x = np.stack(x_data).transpose()\n",
        "y = np.stack(y_data).transpose()\n",
        "z = np.stack(z_data).transpose()\n",
        "\n",
        "#separate left and right body parts to draw line\n",
        "#xline\n",
        "x_left_line = np.stack(x_data[['xX_left_wrist','xX_left_elbow','xX_left_shoulder','xX_midpoint_neck','xX_midpoint_back','xX_midpoint_hip','xX_left_hip','xX_left_knee','xX_left_ankle']]).transpose()\n",
        "x_right_line = np.stack(x_data[['xX_right_wrist','xX_right_elbow','xX_right_shoulder','xX_midpoint_neck','xX_midpoint_back','xX_midpoint_hip','xX_right_hip','xX_right_knee','xX_right_ankle']]).transpose()\n",
        "\n",
        "#yline\n",
        "y_left_line = np.stack(y_data[['yY_left_wrist','yY_left_elbow','yY_left_shoulder','yY_midpoint_neck','yY_midpoint_back','yY_midpoint_hip','yY_left_hip','yY_left_knee','yY_left_ankle']]).transpose()\n",
        "y_right_line = np.stack(y_data[['yY_right_wrist','yY_right_elbow','yY_right_shoulder','yY_midpoint_neck','yY_midpoint_back','yY_midpoint_hip','yY_right_hip','yY_right_knee','yY_right_ankle']]).transpose()\n",
        "\n",
        "#zline\n",
        "z_left_line = np.stack(z_data[['zZ_left_wrist','zZ_left_elbow','zZ_left_shoulder','zZ_midpoint_neck','zZ_midpoint_back','zZ_midpoint_hip','zZ_left_hip','zZ_left_knee','zZ_left_ankle']]).transpose()\n",
        "z_right_line = np.stack(z_data[['zZ_right_wrist','zZ_right_elbow','zZ_right_shoulder','zZ_midpoint_neck','zZ_midpoint_back','zZ_midpoint_hip','zZ_right_hip','zZ_right_knee','zZ_right_ankle']]).transpose()\n",
        "\n",
        "#visualize single frame\n",
        "fig = go.Figure(data=[go.Scatter3d(x=x_left_line[0]*-1, y=y_left_line[0]*-1, z=z_left_line[0]*-1)])\n",
        "fig.add_trace(go.Scatter3d(x=x_right_line[0]*-1, y=y_right_line[0]*-1, z=z_right_line[0]*-1))\n",
        "\n",
        "# tight layout\n",
        "fig.update_layout(updatemenus=[dict(type='buttons',\n",
        "                  showactive=False,\n",
        "                  y=1,\n",
        "                  x=1,\n",
        "                  xanchor='left',\n",
        "                  yanchor='bottom',\n",
        "                  pad=dict(t=200, r=10))])\n",
        "fig.show()"
      ],
      "metadata": {
        "id": "lk3uagcWSHrn",
        "colab": {
          "base_uri": "https://localhost:8080/",
          "height": 559
        },
        "outputId": "9429fb0d-c75c-4387-acaa-337d28fb79df"
      },
      "execution_count": 11,
      "outputs": [
        {
          "output_type": "stream",
          "name": "stdout",
          "text": [
            "Drive already mounted at /content/drive/; to attempt to forcibly remount, call drive.mount(\"/content/drive/\", force_remount=True).\n"
          ]
        },
        {
          "output_type": "display_data",
          "data": {
            "text/html": [
              "<html>\n",
              "<head><meta charset=\"utf-8\" /></head>\n",
              "<body>\n",
              "    <div>            <script src=\"https://cdnjs.cloudflare.com/ajax/libs/mathjax/2.7.5/MathJax.js?config=TeX-AMS-MML_SVG\"></script><script type=\"text/javascript\">if (window.MathJax) {MathJax.Hub.Config({SVG: {font: \"STIX-Web\"}});}</script>                <script type=\"text/javascript\">window.PlotlyConfig = {MathJaxConfig: 'local'};</script>\n",
              "        <script src=\"https://cdn.plot.ly/plotly-2.8.3.min.js\"></script>                <div id=\"cda46276-b5fe-4cad-a8e8-cac4fc82f3eb\" class=\"plotly-graph-div\" style=\"height:525px; width:100%;\"></div>            <script type=\"text/javascript\">                                    window.PLOTLYENV=window.PLOTLYENV || {};                                    if (document.getElementById(\"cda46276-b5fe-4cad-a8e8-cac4fc82f3eb\")) {                    Plotly.newPlot(                        \"cda46276-b5fe-4cad-a8e8-cac4fc82f3eb\",                        [{\"x\":[-0.2811128497123718,-0.45598286390304565,-0.6244075298309326,-0.6759145855903625,-0.5422263815999031,-0.40853817760944366,-0.3667226731777191,-0.2282884418964386,-0.06234923005104065],\"y\":[-0.7377592325210571,-0.7025633454322815,-0.6125868558883667,-0.6024641692638397,-0.6177443712949753,-0.6330245733261108,-0.653666615486145,-0.5061414241790771,-0.36329522728919983],\"z\":[0.8646690249443054,0.8455376625061035,0.7317232489585876,0.5044505745172501,0.25196507573127747,-0.0005204230546951294,0.14427363872528076,0.18987344205379486,0.06779885292053223],\"type\":\"scatter3d\"},{\"x\":[-0.856555163860321,-0.7777107954025269,-0.7274216413497925,-0.6759145855903625,-0.5422263815999031,-0.40853817760944366,-0.4503536820411682,-0.3456818461418152,-0.24116382002830505],\"y\":[-0.5313970446586609,-0.5838342308998108,-0.5923414826393127,-0.6024641692638397,-0.6177443712949753,-0.6330245733261108,-0.6123825311660767,-0.4793410003185272,-0.3432755172252655],\"z\":[-0.0931309312582016,0.12679839134216309,0.2771779000759125,0.5044505745172501,0.25196507573127747,-0.0005204230546951294,-0.14531448483467102,-0.25488728284835815,-0.41889476776123047],\"type\":\"scatter3d\"}],                        {\"template\":{\"data\":{\"bar\":[{\"error_x\":{\"color\":\"#2a3f5f\"},\"error_y\":{\"color\":\"#2a3f5f\"},\"marker\":{\"line\":{\"color\":\"#E5ECF6\",\"width\":0.5},\"pattern\":{\"fillmode\":\"overlay\",\"size\":10,\"solidity\":0.2}},\"type\":\"bar\"}],\"barpolar\":[{\"marker\":{\"line\":{\"color\":\"#E5ECF6\",\"width\":0.5},\"pattern\":{\"fillmode\":\"overlay\",\"size\":10,\"solidity\":0.2}},\"type\":\"barpolar\"}],\"carpet\":[{\"aaxis\":{\"endlinecolor\":\"#2a3f5f\",\"gridcolor\":\"white\",\"linecolor\":\"white\",\"minorgridcolor\":\"white\",\"startlinecolor\":\"#2a3f5f\"},\"baxis\":{\"endlinecolor\":\"#2a3f5f\",\"gridcolor\":\"white\",\"linecolor\":\"white\",\"minorgridcolor\":\"white\",\"startlinecolor\":\"#2a3f5f\"},\"type\":\"carpet\"}],\"choropleth\":[{\"colorbar\":{\"outlinewidth\":0,\"ticks\":\"\"},\"type\":\"choropleth\"}],\"contour\":[{\"colorbar\":{\"outlinewidth\":0,\"ticks\":\"\"},\"colorscale\":[[0.0,\"#0d0887\"],[0.1111111111111111,\"#46039f\"],[0.2222222222222222,\"#7201a8\"],[0.3333333333333333,\"#9c179e\"],[0.4444444444444444,\"#bd3786\"],[0.5555555555555556,\"#d8576b\"],[0.6666666666666666,\"#ed7953\"],[0.7777777777777778,\"#fb9f3a\"],[0.8888888888888888,\"#fdca26\"],[1.0,\"#f0f921\"]],\"type\":\"contour\"}],\"contourcarpet\":[{\"colorbar\":{\"outlinewidth\":0,\"ticks\":\"\"},\"type\":\"contourcarpet\"}],\"heatmap\":[{\"colorbar\":{\"outlinewidth\":0,\"ticks\":\"\"},\"colorscale\":[[0.0,\"#0d0887\"],[0.1111111111111111,\"#46039f\"],[0.2222222222222222,\"#7201a8\"],[0.3333333333333333,\"#9c179e\"],[0.4444444444444444,\"#bd3786\"],[0.5555555555555556,\"#d8576b\"],[0.6666666666666666,\"#ed7953\"],[0.7777777777777778,\"#fb9f3a\"],[0.8888888888888888,\"#fdca26\"],[1.0,\"#f0f921\"]],\"type\":\"heatmap\"}],\"heatmapgl\":[{\"colorbar\":{\"outlinewidth\":0,\"ticks\":\"\"},\"colorscale\":[[0.0,\"#0d0887\"],[0.1111111111111111,\"#46039f\"],[0.2222222222222222,\"#7201a8\"],[0.3333333333333333,\"#9c179e\"],[0.4444444444444444,\"#bd3786\"],[0.5555555555555556,\"#d8576b\"],[0.6666666666666666,\"#ed7953\"],[0.7777777777777778,\"#fb9f3a\"],[0.8888888888888888,\"#fdca26\"],[1.0,\"#f0f921\"]],\"type\":\"heatmapgl\"}],\"histogram\":[{\"marker\":{\"pattern\":{\"fillmode\":\"overlay\",\"size\":10,\"solidity\":0.2}},\"type\":\"histogram\"}],\"histogram2d\":[{\"colorbar\":{\"outlinewidth\":0,\"ticks\":\"\"},\"colorscale\":[[0.0,\"#0d0887\"],[0.1111111111111111,\"#46039f\"],[0.2222222222222222,\"#7201a8\"],[0.3333333333333333,\"#9c179e\"],[0.4444444444444444,\"#bd3786\"],[0.5555555555555556,\"#d8576b\"],[0.6666666666666666,\"#ed7953\"],[0.7777777777777778,\"#fb9f3a\"],[0.8888888888888888,\"#fdca26\"],[1.0,\"#f0f921\"]],\"type\":\"histogram2d\"}],\"histogram2dcontour\":[{\"colorbar\":{\"outlinewidth\":0,\"ticks\":\"\"},\"colorscale\":[[0.0,\"#0d0887\"],[0.1111111111111111,\"#46039f\"],[0.2222222222222222,\"#7201a8\"],[0.3333333333333333,\"#9c179e\"],[0.4444444444444444,\"#bd3786\"],[0.5555555555555556,\"#d8576b\"],[0.6666666666666666,\"#ed7953\"],[0.7777777777777778,\"#fb9f3a\"],[0.8888888888888888,\"#fdca26\"],[1.0,\"#f0f921\"]],\"type\":\"histogram2dcontour\"}],\"mesh3d\":[{\"colorbar\":{\"outlinewidth\":0,\"ticks\":\"\"},\"type\":\"mesh3d\"}],\"parcoords\":[{\"line\":{\"colorbar\":{\"outlinewidth\":0,\"ticks\":\"\"}},\"type\":\"parcoords\"}],\"pie\":[{\"automargin\":true,\"type\":\"pie\"}],\"scatter\":[{\"marker\":{\"colorbar\":{\"outlinewidth\":0,\"ticks\":\"\"}},\"type\":\"scatter\"}],\"scatter3d\":[{\"line\":{\"colorbar\":{\"outlinewidth\":0,\"ticks\":\"\"}},\"marker\":{\"colorbar\":{\"outlinewidth\":0,\"ticks\":\"\"}},\"type\":\"scatter3d\"}],\"scattercarpet\":[{\"marker\":{\"colorbar\":{\"outlinewidth\":0,\"ticks\":\"\"}},\"type\":\"scattercarpet\"}],\"scattergeo\":[{\"marker\":{\"colorbar\":{\"outlinewidth\":0,\"ticks\":\"\"}},\"type\":\"scattergeo\"}],\"scattergl\":[{\"marker\":{\"colorbar\":{\"outlinewidth\":0,\"ticks\":\"\"}},\"type\":\"scattergl\"}],\"scattermapbox\":[{\"marker\":{\"colorbar\":{\"outlinewidth\":0,\"ticks\":\"\"}},\"type\":\"scattermapbox\"}],\"scatterpolar\":[{\"marker\":{\"colorbar\":{\"outlinewidth\":0,\"ticks\":\"\"}},\"type\":\"scatterpolar\"}],\"scatterpolargl\":[{\"marker\":{\"colorbar\":{\"outlinewidth\":0,\"ticks\":\"\"}},\"type\":\"scatterpolargl\"}],\"scatterternary\":[{\"marker\":{\"colorbar\":{\"outlinewidth\":0,\"ticks\":\"\"}},\"type\":\"scatterternary\"}],\"surface\":[{\"colorbar\":{\"outlinewidth\":0,\"ticks\":\"\"},\"colorscale\":[[0.0,\"#0d0887\"],[0.1111111111111111,\"#46039f\"],[0.2222222222222222,\"#7201a8\"],[0.3333333333333333,\"#9c179e\"],[0.4444444444444444,\"#bd3786\"],[0.5555555555555556,\"#d8576b\"],[0.6666666666666666,\"#ed7953\"],[0.7777777777777778,\"#fb9f3a\"],[0.8888888888888888,\"#fdca26\"],[1.0,\"#f0f921\"]],\"type\":\"surface\"}],\"table\":[{\"cells\":{\"fill\":{\"color\":\"#EBF0F8\"},\"line\":{\"color\":\"white\"}},\"header\":{\"fill\":{\"color\":\"#C8D4E3\"},\"line\":{\"color\":\"white\"}},\"type\":\"table\"}]},\"layout\":{\"annotationdefaults\":{\"arrowcolor\":\"#2a3f5f\",\"arrowhead\":0,\"arrowwidth\":1},\"autotypenumbers\":\"strict\",\"coloraxis\":{\"colorbar\":{\"outlinewidth\":0,\"ticks\":\"\"}},\"colorscale\":{\"diverging\":[[0,\"#8e0152\"],[0.1,\"#c51b7d\"],[0.2,\"#de77ae\"],[0.3,\"#f1b6da\"],[0.4,\"#fde0ef\"],[0.5,\"#f7f7f7\"],[0.6,\"#e6f5d0\"],[0.7,\"#b8e186\"],[0.8,\"#7fbc41\"],[0.9,\"#4d9221\"],[1,\"#276419\"]],\"sequential\":[[0.0,\"#0d0887\"],[0.1111111111111111,\"#46039f\"],[0.2222222222222222,\"#7201a8\"],[0.3333333333333333,\"#9c179e\"],[0.4444444444444444,\"#bd3786\"],[0.5555555555555556,\"#d8576b\"],[0.6666666666666666,\"#ed7953\"],[0.7777777777777778,\"#fb9f3a\"],[0.8888888888888888,\"#fdca26\"],[1.0,\"#f0f921\"]],\"sequentialminus\":[[0.0,\"#0d0887\"],[0.1111111111111111,\"#46039f\"],[0.2222222222222222,\"#7201a8\"],[0.3333333333333333,\"#9c179e\"],[0.4444444444444444,\"#bd3786\"],[0.5555555555555556,\"#d8576b\"],[0.6666666666666666,\"#ed7953\"],[0.7777777777777778,\"#fb9f3a\"],[0.8888888888888888,\"#fdca26\"],[1.0,\"#f0f921\"]]},\"colorway\":[\"#636efa\",\"#EF553B\",\"#00cc96\",\"#ab63fa\",\"#FFA15A\",\"#19d3f3\",\"#FF6692\",\"#B6E880\",\"#FF97FF\",\"#FECB52\"],\"font\":{\"color\":\"#2a3f5f\"},\"geo\":{\"bgcolor\":\"white\",\"lakecolor\":\"white\",\"landcolor\":\"#E5ECF6\",\"showlakes\":true,\"showland\":true,\"subunitcolor\":\"white\"},\"hoverlabel\":{\"align\":\"left\"},\"hovermode\":\"closest\",\"mapbox\":{\"style\":\"light\"},\"paper_bgcolor\":\"white\",\"plot_bgcolor\":\"#E5ECF6\",\"polar\":{\"angularaxis\":{\"gridcolor\":\"white\",\"linecolor\":\"white\",\"ticks\":\"\"},\"bgcolor\":\"#E5ECF6\",\"radialaxis\":{\"gridcolor\":\"white\",\"linecolor\":\"white\",\"ticks\":\"\"}},\"scene\":{\"xaxis\":{\"backgroundcolor\":\"#E5ECF6\",\"gridcolor\":\"white\",\"gridwidth\":2,\"linecolor\":\"white\",\"showbackground\":true,\"ticks\":\"\",\"zerolinecolor\":\"white\"},\"yaxis\":{\"backgroundcolor\":\"#E5ECF6\",\"gridcolor\":\"white\",\"gridwidth\":2,\"linecolor\":\"white\",\"showbackground\":true,\"ticks\":\"\",\"zerolinecolor\":\"white\"},\"zaxis\":{\"backgroundcolor\":\"#E5ECF6\",\"gridcolor\":\"white\",\"gridwidth\":2,\"linecolor\":\"white\",\"showbackground\":true,\"ticks\":\"\",\"zerolinecolor\":\"white\"}},\"shapedefaults\":{\"line\":{\"color\":\"#2a3f5f\"}},\"ternary\":{\"aaxis\":{\"gridcolor\":\"white\",\"linecolor\":\"white\",\"ticks\":\"\"},\"baxis\":{\"gridcolor\":\"white\",\"linecolor\":\"white\",\"ticks\":\"\"},\"bgcolor\":\"#E5ECF6\",\"caxis\":{\"gridcolor\":\"white\",\"linecolor\":\"white\",\"ticks\":\"\"}},\"title\":{\"x\":0.05},\"xaxis\":{\"automargin\":true,\"gridcolor\":\"white\",\"linecolor\":\"white\",\"ticks\":\"\",\"title\":{\"standoff\":15},\"zerolinecolor\":\"white\",\"zerolinewidth\":2},\"yaxis\":{\"automargin\":true,\"gridcolor\":\"white\",\"linecolor\":\"white\",\"ticks\":\"\",\"title\":{\"standoff\":15},\"zerolinecolor\":\"white\",\"zerolinewidth\":2}}},\"updatemenus\":[{\"pad\":{\"r\":10,\"t\":200},\"showactive\":false,\"type\":\"buttons\",\"x\":1,\"xanchor\":\"left\",\"y\":1,\"yanchor\":\"bottom\"}]},                        {\"responsive\": true}                    ).then(function(){\n",
              "                            \n",
              "var gd = document.getElementById('cda46276-b5fe-4cad-a8e8-cac4fc82f3eb');\n",
              "var x = new MutationObserver(function (mutations, observer) {{\n",
              "        var display = window.getComputedStyle(gd).display;\n",
              "        if (!display || display === 'none') {{\n",
              "            console.log([gd, 'removed!']);\n",
              "            Plotly.purge(gd);\n",
              "            observer.disconnect();\n",
              "        }}\n",
              "}});\n",
              "\n",
              "// Listen for the removal of the full notebook cells\n",
              "var notebookContainer = gd.closest('#notebook-container');\n",
              "if (notebookContainer) {{\n",
              "    x.observe(notebookContainer, {childList: true});\n",
              "}}\n",
              "\n",
              "// Listen for the clearing of the current output cell\n",
              "var outputEl = gd.closest('.output');\n",
              "if (outputEl) {{\n",
              "    x.observe(outputEl, {childList: true});\n",
              "}}\n",
              "\n",
              "                        })                };                            </script>        </div>\n",
              "</body>\n",
              "</html>"
            ]
          },
          "metadata": {}
        }
      ]
    },
    {
      "cell_type": "code",
      "source": [
        "#generate frames for each record\n",
        "def getFrame(i):\n",
        "    frame = go.Figure(data=[go.Scatter3d(x=x_left_line[i]*-1, y=y_left_line[i]*-1, z=z_left_line[i]*-1)])\n",
        "    frame.add_trace(go.Scatter3d(x=x_right_line[i]*-1, y=y_right_line[i]*-1, z=z_right_line[i]*-1))\n",
        "    return frame\n",
        "\n",
        "frames = []\n",
        "for i in range(0,20):\n",
        "  frames.append(getFrame(i))\n",
        "\n",
        "#save frames as png\n",
        "for i in range(0,20):\n",
        "  frames[i].write_image(\"frames/fig{}.png\".format(i))\n",
        "\n",
        "#save frames as gif animation\n",
        "images = []\n",
        "for i in range(0,20):\n",
        "    images.append(imageio.imread(\"frames/fig{}.png\".format(i)))\n",
        "imageio.mimsave('frames/movie.gif', images)"
      ],
      "metadata": {
        "id": "CpDSbJpCtmpc"
      },
      "execution_count": 12,
      "outputs": []
    },
    {
      "cell_type": "markdown",
      "source": [
        "## Question 2 - Motion Detection"
      ],
      "metadata": {
        "id": "3nvK5_Rmas3z"
      }
    },
    {
      "cell_type": "code",
      "source": [
        "#get transformed data for exercise zero (funtion in q1)\n",
        "x_left_line, x_right_line, y_left_line, y_right_line, z_left_line, z_right_line,x, y, z = getExerciseData(0,df)"
      ],
      "metadata": {
        "id": "Hfolnl_CarJa"
      },
      "execution_count": 33,
      "outputs": []
    },
    {
      "cell_type": "code",
      "source": [
        "x_data.index"
      ],
      "metadata": {
        "id": "MF-nwKV6fNxT",
        "colab": {
          "base_uri": "https://localhost:8080/"
        },
        "outputId": "6b6cd01b-ea04-4872-bd74-cf00d73f04c1"
      },
      "execution_count": 34,
      "outputs": [
        {
          "output_type": "execute_result",
          "data": {
            "text/plain": [
              "Index(['xX_left_shoulder', 'xX_right_shoulder', 'xX_left_elbow',\n",
              "       'xX_right_elbow', 'xX_left_wrist', 'xX_right_wrist', 'xX_left_hip',\n",
              "       'xX_right_hip', 'xX_left_knee', 'xX_right_knee', 'xX_left_ankle',\n",
              "       'xX_right_ankle', 'xX_midpoint_neck', 'xX_midpoint_hip',\n",
              "       'xX_midpoint_back'],\n",
              "      dtype='object')"
            ]
          },
          "metadata": {},
          "execution_count": 34
        }
      ]
    },
    {
      "cell_type": "code",
      "source": [
        "# for each joint generate motion as time series (delta position of joint at t1 - t0)\n",
        "def jointMotion(joint_data):\n",
        "  joint_motion = []\n",
        "  for i in range(0,len(joint_data)-1):\n",
        "    joint_motion.append(np.linalg.norm(joint_data[i+1] - joint_data[i]))\n",
        "  return joint_motion\n",
        "\n",
        "#test function for right shoulder on exercise 0\n",
        "right_shoulder = np.stack([x,y,z]).transpose()[1]\n",
        "jointMotion(right_shoulder)[:5]"
      ],
      "metadata": {
        "id": "3DfIXWTzc_c8",
        "colab": {
          "base_uri": "https://localhost:8080/"
        },
        "outputId": "e889813d-0f59-474e-bf68-410605d49d8d"
      },
      "execution_count": 35,
      "outputs": [
        {
          "output_type": "execute_result",
          "data": {
            "text/plain": [
              "[0.04015498250147336,\n",
              " 0.015465483397939413,\n",
              " 0.028854418043876656,\n",
              " 0.02247489415047361,\n",
              " 0.05665758867326116]"
            ]
          },
          "metadata": {},
          "execution_count": 35
        }
      ]
    },
    {
      "cell_type": "code",
      "source": [
        "#visualize motion for each joint in exercise\n",
        "exercise = np.stack([x,y,z]).transpose()\n",
        "\n",
        "plot = go.Figure()\n",
        "for i in range(0,exercise.shape[0]):\n",
        "  plot.add_trace(go.Box(y=jointMotion(exercise[i][:30]),name=x_data.index[i][3:]))\n",
        "plot.update_layout(showlegend=False)\n",
        "plot.show()"
      ],
      "metadata": {
        "id": "qmp2895WlXe1",
        "colab": {
          "base_uri": "https://localhost:8080/",
          "height": 542
        },
        "outputId": "91e4be19-e346-4036-d87b-6ffef190d499"
      },
      "execution_count": 36,
      "outputs": [
        {
          "output_type": "display_data",
          "data": {
            "text/html": [
              "<html>\n",
              "<head><meta charset=\"utf-8\" /></head>\n",
              "<body>\n",
              "    <div>            <script src=\"https://cdnjs.cloudflare.com/ajax/libs/mathjax/2.7.5/MathJax.js?config=TeX-AMS-MML_SVG\"></script><script type=\"text/javascript\">if (window.MathJax) {MathJax.Hub.Config({SVG: {font: \"STIX-Web\"}});}</script>                <script type=\"text/javascript\">window.PlotlyConfig = {MathJaxConfig: 'local'};</script>\n",
              "        <script src=\"https://cdn.plot.ly/plotly-2.8.3.min.js\"></script>                <div id=\"04c648e8-6eab-457c-bfd6-517bae95f7cf\" class=\"plotly-graph-div\" style=\"height:525px; width:100%;\"></div>            <script type=\"text/javascript\">                                    window.PLOTLYENV=window.PLOTLYENV || {};                                    if (document.getElementById(\"04c648e8-6eab-457c-bfd6-517bae95f7cf\")) {                    Plotly.newPlot(                        \"04c648e8-6eab-457c-bfd6-517bae95f7cf\",                        [{\"name\":\"left_shoulder\",\"y\":[0.023634539291434324,0.008679533860945273,0.009191912847443367,0.017971023712482742,0.033993533628869914,0.027407103321096093,0.034763667366106914,0.0033737015093701843,0.026358073123976006,0.01635070329259696,0.0032170810431194513,0.011687277157888505,0.011967293259601693,0.0028013197559412293,0.02195981784146165,0.03289453213506619,0.018313778339917715,0.007389315935957918,0.0104699964334581,0.03163643910135944,0.04492202679259028,0.05293113961161246,0.047896417734538815,0.014528555119750344,0.04254107112503727,0.046120385308665114,0.06247528124163181,0.017593590322867534,0.0377276472688995],\"type\":\"box\"},{\"name\":\"right_shoulder\",\"y\":[0.04015498250147336,0.015465483397939413,0.028854418043876656,0.02247489415047361,0.05665758867326116,0.006656596659198179,0.047651934107049036,0.020533329138632168,0.005441132665563459,0.023362198252050548,0.010520876198200791,0.03705728536334592,0.011343153442721672,0.014850988572665032,0.01696327098239916,0.05042316916113357,0.049125561721853526,0.014162349415197466,0.01458407477949603,0.04109356531137314,0.022514904822468675,0.019454643525436077,0.08888193836622807,0.038623967378009896,0.026701142262679417,0.014286025935864047,0.06901808394790696,0.05791772700285329,0.01596713553301842],\"type\":\"box\"},{\"name\":\"left_elbow\",\"y\":[0.07173517637216995,0.002794633348808706,0.011805077340214081,0.02875249140723988,0.06529906024603273,0.048801868386277515,0.041349231417688,0.021710731107962986,0.015802677742802737,0.010317111492976804,0.01654040093354477,0.020635863846937157,0.04360058554101854,0.019076452775865147,0.01824660914756138,0.0595596293659133,0.0035831794644169876,0.022904935809611435,0.012684547351498208,0.050311012533734684,0.1078259492540411,0.09729986799985561,0.04021283106559768,0.035942727432666785,0.08949760691571934,0.08728302974111377,0.10198061091173563,0.07051091285707362,0.07843042438940523],\"type\":\"box\"},{\"name\":\"right_elbow\",\"y\":[0.2247085444867308,0.028672883629207228,0.06533493396937533,0.06719914427228474,0.10975690157878015,0.11364945567657364,0.15426091615358328,0.06659177642443026,0.028206638269695373,0.05056900621985989,0.020604672195543766,0.04875023826611711,0.05638041633549986,0.028177533724813027,0.020617671837362676,0.05922034926446782,0.05559615202157214,0.031989453398621734,0.14399614140753322,0.08924974539709375,0.09765686267978874,0.08963600883754666,0.1553541832553605,0.12614324195015192,0.08447249661767857,0.10185386174837228,0.17129149983550931,0.19206169383245822,0.0842956467735651],\"type\":\"box\"},{\"name\":\"left_wrist\",\"y\":[0.07586652237583213,0.021121681687893506,0.052403689089415596,0.022383032412608597,0.09935212721448762,0.05768146239603951,0.054714815220442935,0.02861717668314111,0.010906660612240333,0.005898386835699554,0.049365368288910375,0.03108089042793176,0.0677844326383549,0.03378672388756237,0.013344528834621444,0.07710612138200446,0.023518773418821123,0.03395169196954587,0.01937643514241269,0.08239628298579857,0.15417043947781792,0.1168898003644189,0.0298329706477728,0.03830379490650895,0.09814510144505155,0.11005090458799384,0.13749851165633137,0.12932018300957132,0.1230291106135982],\"type\":\"box\"},{\"name\":\"right_wrist\",\"y\":[0.592517030651584,0.046065158204164125,0.11424924241414544,0.11811567916437309,0.14468422970386197,0.27200593331643924,0.3818429863647597,0.1703179500213844,0.044432980525702055,0.09391259333999377,0.040716542000774895,0.09852704213397567,0.1092930268938277,0.055299196359145035,0.011965892654604019,0.048349140296662665,0.05010725620709187,0.09636442154939585,0.26751293316429675,0.20543490935946992,0.2607270290408041,0.22623517884935668,0.21451971722300078,0.24657706769877777,0.2208789001933666,0.26009616001963476,0.25935040299191175,0.30302184600792303,0.18814489255483782],\"type\":\"box\"},{\"name\":\"left_hip\",\"y\":[0.02012409590417393,0.010558874047004684,0.005347846189367323,0.005867048683449239,0.010122319064110766,0.0064012107880773075,0.003454816674277791,0.010169878867382002,0.016024254255039175,0.015500611626709846,0.0052844643630995565,0.03458344880901511,0.005669647462500693,0.018400344216683146,0.02535866459484675,0.016047045511856557,0.018811168613607692,0.011382593693755494,0.01153227239210553,0.013082002894055752,0.02136455297792397,0.023593330694803738,0.014731282378935286,0.030245296183384198,0.0287982035099561,0.016183892164593563,0.013234697596973462,0.015056155976436588,0.018221380759832106],\"type\":\"box\"},{\"name\":\"right_hip\",\"y\":[0.02155667220966338,0.007393780515568195,0.005010468374375936,0.0050115322284986176,0.007308125564166616,0.005907882296696339,0.005061715011584174,0.007299666228628885,0.017239500587151915,0.016905465007524906,0.005404708250492751,0.011055256112642237,0.007602871542835186,0.01051743608723998,0.01839399775561335,0.01320068535318484,0.01895055953573758,0.013928834353459797,0.011261687066814257,0.00815458133723872,0.013492934778151479,0.009248688584384525,0.0168486907669702,0.02642398315507306,0.01740883126437899,0.020117136162459914,0.010407353090489633,0.02842712479849296,0.01820011000270475],\"type\":\"box\"},{\"name\":\"left_knee\",\"y\":[0.13985655740387073,0.03239871050870018,0.05287392293543328,0.04781320224844022,0.019252032808185878,0.0249966051417618,0.0242334353710992,0.07845667005902421,0.03177410918608303,0.016358476179217356,0.013749886817014372,0.05115361567178506,0.11263582130496577,0.07924138352133663,0.027953886091922488,0.1353619223575002,0.05901176749972797,0.05824847557460143,0.04299606664355698,0.08276217141417644,0.10024316422928042,0.06691189916219267,0.09363610261036888,0.09593736883524066,0.10125035720278781,0.11725135790109054,0.17091051708671648,0.19986120893669118,0.03530332236381217],\"type\":\"box\"},{\"name\":\"right_knee\",\"y\":[0.07918628872198614,0.02528751252650571,0.05445601727864997,0.10385241295132658,0.09571091606248765,0.08466942252516103,0.010448942760920675,0.01375372855515083,0.07826527599374197,0.02480070601793757,0.020994955622709394,0.11491794834531448,0.11890657821710247,0.21262561882081288,0.057197212582982764,0.24534248988053603,0.022236141566397038,0.07773843961145496,0.027090527604522782,0.10021116323724344,0.029446143904373858,0.03850718641305006,0.041250809449578325,0.027338141624649207,0.08891208270305713,0.1994358468645991,0.2257989795833487,0.297870033264408,0.03865357958336204],\"type\":\"box\"},{\"name\":\"left_ankle\",\"y\":[0.15540646769967398,0.019537531844964123,0.06575426924369795,0.11448319305806606,0.05589608717188575,0.017120987517576906,0.022474151530489147,0.06082922175396045,0.08204122699683179,0.031052966400846406,0.03673759047084212,0.1842750819522899,0.12355702757944981,0.13192524659115254,0.019173906756428577,0.22309072643395383,0.047346621883520824,0.0735654176656878,0.05021978484422098,0.11939297654334616,0.058567666409025894,0.01762070401406322,0.17994879428565086,0.1106803771047505,0.1543488867264715,0.288310179428993,0.3555633070859914,0.3522202921180621,0.0335599363151874],\"type\":\"box\"},{\"name\":\"right_ankle\",\"y\":[0.07318782774827534,0.007770854177186775,0.08912467719283124,0.16787461424956243,0.16269455396445712,0.09385195057422,0.02139187398358819,0.039424213574293876,0.1253215879926135,0.017052424172582563,0.04947399400787627,0.12993558913562034,0.13723731133892206,0.29395033175313834,0.08478207781180071,0.32066082852292876,0.06993332688759038,0.13299600847393517,0.023595543354399555,0.11762372493458034,0.01811693775274185,0.01169747195730315,0.13977116629003797,0.09687727030633857,0.0939750552389944,0.250434829305062,0.2907221324959151,0.4184726736530418,0.06309846171856336],\"type\":\"box\"},{\"name\":\"midpoint_neck\",\"y\":[0.010217862210755197,0.011281901222115769,0.012497298214899392,0.02017007247104805,0.044657613493307616,0.01040053064787021,0.03807202840335229,0.011905235581151613,0.011326445963855417,0.013696161248442713,0.006385909602425063,0.01643317679256173,0.010666893500949582,0.00823938104862005,0.005465480480803614,0.03975969453800338,0.033275186951916606,0.008943939853055125,0.004886925375064352,0.03455104047061132,0.029141306411717815,0.03380882182620242,0.06821107707529382,0.012810862010624154,0.019008327813943852,0.025496904797812223,0.06510669885571536,0.037571597201546784,0.02361581679154025],\"type\":\"box\"},{\"name\":\"midpoint_hip\",\"y\":[0.017494633445742168,0.008248078602599903,0.0019692162363026135,0.004590689968897198,0.006835976274430436,0.00304472014089761,0.0019074907222573518,0.005415346708338932,0.003712933325703885,0.009693883139031283,0.003685148199027527,0.018289306060525635,0.00517705987294067,0.01341034572990915,0.00782658154776834,0.011833167539744978,0.0179743644696069,0.010274169114066128,0.007273440085372426,0.009715330852421003,0.016878015064225253,0.016297813182573485,0.007523447082393149,0.01813732336063526,0.014169634345177038,0.003572611136289638,0.004383372300134477,0.01665211317107619,0.008636162303661547],\"type\":\"box\"},{\"name\":\"midpoint_back\",\"y\":[0.010621010620646859,0.008315959878720188,0.006277522591247466,0.010274911053523702,0.023131855785325665,0.00533488483457065,0.019437902485196196,0.008129942772416058,0.005737236634997107,0.005590030248301248,0.0019834818536750357,0.011902501811879178,0.00575904829712203,0.010360595973537353,0.0044268992557024035,0.021645453821025756,0.021229717150389404,0.007605412855688479,0.003690867480431103,0.018408785815561803,0.019243170593360174,0.020489564335921362,0.03455765889519543,0.01267812417965669,0.011326238186708746,0.013012275498736025,0.03274685971466856,0.02225470109268456,0.013902718811378506],\"type\":\"box\"}],                        {\"template\":{\"data\":{\"bar\":[{\"error_x\":{\"color\":\"#2a3f5f\"},\"error_y\":{\"color\":\"#2a3f5f\"},\"marker\":{\"line\":{\"color\":\"#E5ECF6\",\"width\":0.5},\"pattern\":{\"fillmode\":\"overlay\",\"size\":10,\"solidity\":0.2}},\"type\":\"bar\"}],\"barpolar\":[{\"marker\":{\"line\":{\"color\":\"#E5ECF6\",\"width\":0.5},\"pattern\":{\"fillmode\":\"overlay\",\"size\":10,\"solidity\":0.2}},\"type\":\"barpolar\"}],\"carpet\":[{\"aaxis\":{\"endlinecolor\":\"#2a3f5f\",\"gridcolor\":\"white\",\"linecolor\":\"white\",\"minorgridcolor\":\"white\",\"startlinecolor\":\"#2a3f5f\"},\"baxis\":{\"endlinecolor\":\"#2a3f5f\",\"gridcolor\":\"white\",\"linecolor\":\"white\",\"minorgridcolor\":\"white\",\"startlinecolor\":\"#2a3f5f\"},\"type\":\"carpet\"}],\"choropleth\":[{\"colorbar\":{\"outlinewidth\":0,\"ticks\":\"\"},\"type\":\"choropleth\"}],\"contour\":[{\"colorbar\":{\"outlinewidth\":0,\"ticks\":\"\"},\"colorscale\":[[0.0,\"#0d0887\"],[0.1111111111111111,\"#46039f\"],[0.2222222222222222,\"#7201a8\"],[0.3333333333333333,\"#9c179e\"],[0.4444444444444444,\"#bd3786\"],[0.5555555555555556,\"#d8576b\"],[0.6666666666666666,\"#ed7953\"],[0.7777777777777778,\"#fb9f3a\"],[0.8888888888888888,\"#fdca26\"],[1.0,\"#f0f921\"]],\"type\":\"contour\"}],\"contourcarpet\":[{\"colorbar\":{\"outlinewidth\":0,\"ticks\":\"\"},\"type\":\"contourcarpet\"}],\"heatmap\":[{\"colorbar\":{\"outlinewidth\":0,\"ticks\":\"\"},\"colorscale\":[[0.0,\"#0d0887\"],[0.1111111111111111,\"#46039f\"],[0.2222222222222222,\"#7201a8\"],[0.3333333333333333,\"#9c179e\"],[0.4444444444444444,\"#bd3786\"],[0.5555555555555556,\"#d8576b\"],[0.6666666666666666,\"#ed7953\"],[0.7777777777777778,\"#fb9f3a\"],[0.8888888888888888,\"#fdca26\"],[1.0,\"#f0f921\"]],\"type\":\"heatmap\"}],\"heatmapgl\":[{\"colorbar\":{\"outlinewidth\":0,\"ticks\":\"\"},\"colorscale\":[[0.0,\"#0d0887\"],[0.1111111111111111,\"#46039f\"],[0.2222222222222222,\"#7201a8\"],[0.3333333333333333,\"#9c179e\"],[0.4444444444444444,\"#bd3786\"],[0.5555555555555556,\"#d8576b\"],[0.6666666666666666,\"#ed7953\"],[0.7777777777777778,\"#fb9f3a\"],[0.8888888888888888,\"#fdca26\"],[1.0,\"#f0f921\"]],\"type\":\"heatmapgl\"}],\"histogram\":[{\"marker\":{\"pattern\":{\"fillmode\":\"overlay\",\"size\":10,\"solidity\":0.2}},\"type\":\"histogram\"}],\"histogram2d\":[{\"colorbar\":{\"outlinewidth\":0,\"ticks\":\"\"},\"colorscale\":[[0.0,\"#0d0887\"],[0.1111111111111111,\"#46039f\"],[0.2222222222222222,\"#7201a8\"],[0.3333333333333333,\"#9c179e\"],[0.4444444444444444,\"#bd3786\"],[0.5555555555555556,\"#d8576b\"],[0.6666666666666666,\"#ed7953\"],[0.7777777777777778,\"#fb9f3a\"],[0.8888888888888888,\"#fdca26\"],[1.0,\"#f0f921\"]],\"type\":\"histogram2d\"}],\"histogram2dcontour\":[{\"colorbar\":{\"outlinewidth\":0,\"ticks\":\"\"},\"colorscale\":[[0.0,\"#0d0887\"],[0.1111111111111111,\"#46039f\"],[0.2222222222222222,\"#7201a8\"],[0.3333333333333333,\"#9c179e\"],[0.4444444444444444,\"#bd3786\"],[0.5555555555555556,\"#d8576b\"],[0.6666666666666666,\"#ed7953\"],[0.7777777777777778,\"#fb9f3a\"],[0.8888888888888888,\"#fdca26\"],[1.0,\"#f0f921\"]],\"type\":\"histogram2dcontour\"}],\"mesh3d\":[{\"colorbar\":{\"outlinewidth\":0,\"ticks\":\"\"},\"type\":\"mesh3d\"}],\"parcoords\":[{\"line\":{\"colorbar\":{\"outlinewidth\":0,\"ticks\":\"\"}},\"type\":\"parcoords\"}],\"pie\":[{\"automargin\":true,\"type\":\"pie\"}],\"scatter\":[{\"marker\":{\"colorbar\":{\"outlinewidth\":0,\"ticks\":\"\"}},\"type\":\"scatter\"}],\"scatter3d\":[{\"line\":{\"colorbar\":{\"outlinewidth\":0,\"ticks\":\"\"}},\"marker\":{\"colorbar\":{\"outlinewidth\":0,\"ticks\":\"\"}},\"type\":\"scatter3d\"}],\"scattercarpet\":[{\"marker\":{\"colorbar\":{\"outlinewidth\":0,\"ticks\":\"\"}},\"type\":\"scattercarpet\"}],\"scattergeo\":[{\"marker\":{\"colorbar\":{\"outlinewidth\":0,\"ticks\":\"\"}},\"type\":\"scattergeo\"}],\"scattergl\":[{\"marker\":{\"colorbar\":{\"outlinewidth\":0,\"ticks\":\"\"}},\"type\":\"scattergl\"}],\"scattermapbox\":[{\"marker\":{\"colorbar\":{\"outlinewidth\":0,\"ticks\":\"\"}},\"type\":\"scattermapbox\"}],\"scatterpolar\":[{\"marker\":{\"colorbar\":{\"outlinewidth\":0,\"ticks\":\"\"}},\"type\":\"scatterpolar\"}],\"scatterpolargl\":[{\"marker\":{\"colorbar\":{\"outlinewidth\":0,\"ticks\":\"\"}},\"type\":\"scatterpolargl\"}],\"scatterternary\":[{\"marker\":{\"colorbar\":{\"outlinewidth\":0,\"ticks\":\"\"}},\"type\":\"scatterternary\"}],\"surface\":[{\"colorbar\":{\"outlinewidth\":0,\"ticks\":\"\"},\"colorscale\":[[0.0,\"#0d0887\"],[0.1111111111111111,\"#46039f\"],[0.2222222222222222,\"#7201a8\"],[0.3333333333333333,\"#9c179e\"],[0.4444444444444444,\"#bd3786\"],[0.5555555555555556,\"#d8576b\"],[0.6666666666666666,\"#ed7953\"],[0.7777777777777778,\"#fb9f3a\"],[0.8888888888888888,\"#fdca26\"],[1.0,\"#f0f921\"]],\"type\":\"surface\"}],\"table\":[{\"cells\":{\"fill\":{\"color\":\"#EBF0F8\"},\"line\":{\"color\":\"white\"}},\"header\":{\"fill\":{\"color\":\"#C8D4E3\"},\"line\":{\"color\":\"white\"}},\"type\":\"table\"}]},\"layout\":{\"annotationdefaults\":{\"arrowcolor\":\"#2a3f5f\",\"arrowhead\":0,\"arrowwidth\":1},\"autotypenumbers\":\"strict\",\"coloraxis\":{\"colorbar\":{\"outlinewidth\":0,\"ticks\":\"\"}},\"colorscale\":{\"diverging\":[[0,\"#8e0152\"],[0.1,\"#c51b7d\"],[0.2,\"#de77ae\"],[0.3,\"#f1b6da\"],[0.4,\"#fde0ef\"],[0.5,\"#f7f7f7\"],[0.6,\"#e6f5d0\"],[0.7,\"#b8e186\"],[0.8,\"#7fbc41\"],[0.9,\"#4d9221\"],[1,\"#276419\"]],\"sequential\":[[0.0,\"#0d0887\"],[0.1111111111111111,\"#46039f\"],[0.2222222222222222,\"#7201a8\"],[0.3333333333333333,\"#9c179e\"],[0.4444444444444444,\"#bd3786\"],[0.5555555555555556,\"#d8576b\"],[0.6666666666666666,\"#ed7953\"],[0.7777777777777778,\"#fb9f3a\"],[0.8888888888888888,\"#fdca26\"],[1.0,\"#f0f921\"]],\"sequentialminus\":[[0.0,\"#0d0887\"],[0.1111111111111111,\"#46039f\"],[0.2222222222222222,\"#7201a8\"],[0.3333333333333333,\"#9c179e\"],[0.4444444444444444,\"#bd3786\"],[0.5555555555555556,\"#d8576b\"],[0.6666666666666666,\"#ed7953\"],[0.7777777777777778,\"#fb9f3a\"],[0.8888888888888888,\"#fdca26\"],[1.0,\"#f0f921\"]]},\"colorway\":[\"#636efa\",\"#EF553B\",\"#00cc96\",\"#ab63fa\",\"#FFA15A\",\"#19d3f3\",\"#FF6692\",\"#B6E880\",\"#FF97FF\",\"#FECB52\"],\"font\":{\"color\":\"#2a3f5f\"},\"geo\":{\"bgcolor\":\"white\",\"lakecolor\":\"white\",\"landcolor\":\"#E5ECF6\",\"showlakes\":true,\"showland\":true,\"subunitcolor\":\"white\"},\"hoverlabel\":{\"align\":\"left\"},\"hovermode\":\"closest\",\"mapbox\":{\"style\":\"light\"},\"paper_bgcolor\":\"white\",\"plot_bgcolor\":\"#E5ECF6\",\"polar\":{\"angularaxis\":{\"gridcolor\":\"white\",\"linecolor\":\"white\",\"ticks\":\"\"},\"bgcolor\":\"#E5ECF6\",\"radialaxis\":{\"gridcolor\":\"white\",\"linecolor\":\"white\",\"ticks\":\"\"}},\"scene\":{\"xaxis\":{\"backgroundcolor\":\"#E5ECF6\",\"gridcolor\":\"white\",\"gridwidth\":2,\"linecolor\":\"white\",\"showbackground\":true,\"ticks\":\"\",\"zerolinecolor\":\"white\"},\"yaxis\":{\"backgroundcolor\":\"#E5ECF6\",\"gridcolor\":\"white\",\"gridwidth\":2,\"linecolor\":\"white\",\"showbackground\":true,\"ticks\":\"\",\"zerolinecolor\":\"white\"},\"zaxis\":{\"backgroundcolor\":\"#E5ECF6\",\"gridcolor\":\"white\",\"gridwidth\":2,\"linecolor\":\"white\",\"showbackground\":true,\"ticks\":\"\",\"zerolinecolor\":\"white\"}},\"shapedefaults\":{\"line\":{\"color\":\"#2a3f5f\"}},\"ternary\":{\"aaxis\":{\"gridcolor\":\"white\",\"linecolor\":\"white\",\"ticks\":\"\"},\"baxis\":{\"gridcolor\":\"white\",\"linecolor\":\"white\",\"ticks\":\"\"},\"bgcolor\":\"#E5ECF6\",\"caxis\":{\"gridcolor\":\"white\",\"linecolor\":\"white\",\"ticks\":\"\"}},\"title\":{\"x\":0.05},\"xaxis\":{\"automargin\":true,\"gridcolor\":\"white\",\"linecolor\":\"white\",\"ticks\":\"\",\"title\":{\"standoff\":15},\"zerolinecolor\":\"white\",\"zerolinewidth\":2},\"yaxis\":{\"automargin\":true,\"gridcolor\":\"white\",\"linecolor\":\"white\",\"ticks\":\"\",\"title\":{\"standoff\":15},\"zerolinecolor\":\"white\",\"zerolinewidth\":2}}},\"showlegend\":false},                        {\"responsive\": true}                    ).then(function(){\n",
              "                            \n",
              "var gd = document.getElementById('04c648e8-6eab-457c-bfd6-517bae95f7cf');\n",
              "var x = new MutationObserver(function (mutations, observer) {{\n",
              "        var display = window.getComputedStyle(gd).display;\n",
              "        if (!display || display === 'none') {{\n",
              "            console.log([gd, 'removed!']);\n",
              "            Plotly.purge(gd);\n",
              "            observer.disconnect();\n",
              "        }}\n",
              "}});\n",
              "\n",
              "// Listen for the removal of the full notebook cells\n",
              "var notebookContainer = gd.closest('#notebook-container');\n",
              "if (notebookContainer) {{\n",
              "    x.observe(notebookContainer, {childList: true});\n",
              "}}\n",
              "\n",
              "// Listen for the clearing of the current output cell\n",
              "var outputEl = gd.closest('.output');\n",
              "if (outputEl) {{\n",
              "    x.observe(outputEl, {childList: true});\n",
              "}}\n",
              "\n",
              "                        })                };                            </script>        </div>\n",
              "</body>\n",
              "</html>"
            ]
          },
          "metadata": {}
        }
      ]
    },
    {
      "cell_type": "code",
      "source": [
        "#for each exercise get joint with max motion (joint motion data with largest median value)\n",
        "def max_motion_joint(x,y,z):\n",
        "  exercise = np.stack([x,y,z]).transpose()\n",
        "  values = [statistics.median(jointMotion(exercise[i][:30])) for i in range(0,exercise.shape[0])] #note: Analysis is limited to first 30 Data Points to evade outliers due to erratic motions\n",
        "  keys = x_data.index.copy()\n",
        "  motion_score = dict(zip(keys,values))\n",
        "  motion_score = sorted(motion_score.items(), key=lambda item: item[1],reverse=True)\n",
        "  motion_score = [tuple[0][3:] for tuple in motion_score]\n",
        "  moving_joints = motion_score[:3]\n",
        "  not_moving_joints = motion_score[3:]\n",
        "  return moving_joints, not_moving_joints\n",
        "\n",
        "#test for exercise 0\n",
        "a,b = max_motion_joint(x,y,z)\n",
        "print('Max Motion Joint exercise 0:',a)\n",
        "print('Min Motion Joint exercise 0:',b)"
      ],
      "metadata": {
        "colab": {
          "base_uri": "https://localhost:8080/"
        },
        "id": "r0CGklcjPROm",
        "outputId": "22612090-4903-49db-eecf-ed79aa96dced"
      },
      "execution_count": 21,
      "outputs": [
        {
          "output_type": "stream",
          "name": "stdout",
          "text": [
            "Max Motion Joint exercise 0: ['right_wrist', 'right_ankle', 'right_elbow']\n",
            "Min Motion Joint exercise 0: ['right_knee', 'left_ankle', 'left_knee', 'left_wrist', 'left_elbow', 'right_shoulder', 'left_shoulder', 'midpoint_neck', 'left_hip', 'midpoint_back', 'right_hip', 'midpoint_hip']\n"
          ]
        }
      ]
    },
    {
      "cell_type": "code",
      "source": [
        "#test for exercise id\n",
        "exercise_id = 30\n",
        "x_left_line, x_right_line, y_left_line, y_right_line, z_left_line, z_right_line,x, y, z = getExerciseData(exercise_id,df)\n",
        "move,not_move = max_motion_joint(x,y,z)\n",
        "print('Max Motion Joint exercise 23:',move)\n",
        "print('Min Motion Joint exercise 23:',not_move)"
      ],
      "metadata": {
        "colab": {
          "base_uri": "https://localhost:8080/"
        },
        "id": "gZPx0HhmwRLC",
        "outputId": "485a5e49-a061-4748-f73b-d5e3ddd9ee3c"
      },
      "execution_count": 22,
      "outputs": [
        {
          "output_type": "stream",
          "name": "stdout",
          "text": [
            "Max Motion Joint exercise 23: ['left_wrist', 'right_wrist', 'left_elbow']\n",
            "Min Motion Joint exercise 23: ['right_ankle', 'right_elbow', 'left_ankle', 'left_shoulder', 'midpoint_neck', 'right_shoulder', 'right_knee', 'left_knee', 'midpoint_back', 'right_hip', 'left_hip', 'midpoint_hip']\n"
          ]
        }
      ]
    },
    {
      "cell_type": "markdown",
      "source": [
        "### thoughts:\n",
        "\n",
        "\n",
        "*   gifs show very erratic behavior - outliers to be removed (e.g. only first 50 data points)\n",
        "*   calculate and compare median variance in motion -> order descending\n",
        "\n"
      ],
      "metadata": {
        "id": "BpH20wAug0-J"
      }
    },
    {
      "cell_type": "markdown",
      "source": [
        "## Question 3 - Rotation Detection"
      ],
      "metadata": {
        "id": "Dl5nRn9VpGAe"
      }
    },
    {
      "cell_type": "code",
      "source": [
        "#get joint names\n",
        "joints_idx = np.array(x_data.index)\n",
        "vfunc = np.vectorize(lambda x: x[3:])\n",
        "joint_names = vfunc(joints_idx)[:12]\n",
        "joints_left = joint_names[::2]\n",
        "joints_right = joint_names[1::2]\n",
        "joint_names"
      ],
      "metadata": {
        "colab": {
          "base_uri": "https://localhost:8080/"
        },
        "id": "2k98VYYo4coV",
        "outputId": "b230753a-cd58-4be2-8d59-0db76213dd58"
      },
      "execution_count": 23,
      "outputs": [
        {
          "output_type": "execute_result",
          "data": {
            "text/plain": [
              "array(['left_shoulder', 'right_shoulder', 'left_elbow', 'right_elbow',\n",
              "       'left_wrist', 'right_wrist', 'left_hip', 'right_hip', 'left_knee',\n",
              "       'right_knee', 'left_ankle', 'right_ankle'], dtype='<U14')"
            ]
          },
          "metadata": {},
          "execution_count": 23
        }
      ]
    },
    {
      "cell_type": "code",
      "source": [
        "exercise_id = 8\n",
        "print(df.name.iloc[exercise_id])\n",
        "x_left_line, x_right_line, y_left_line, y_right_line, z_left_line, z_right_line,x, y, z = getExerciseData(exercise_id,df)\n",
        "getVisualization(x_left_line, x_right_line, y_left_line, y_right_line, z_left_line, z_right_line)"
      ],
      "metadata": {
        "id": "7rqvjeqrpIMX",
        "colab": {
          "base_uri": "https://localhost:8080/",
          "height": 559
        },
        "outputId": "51034263-90e4-4951-ad33-542d2c58c9bb"
      },
      "execution_count": 24,
      "outputs": [
        {
          "output_type": "stream",
          "name": "stdout",
          "text": [
            "barbell lunge\n"
          ]
        },
        {
          "output_type": "display_data",
          "data": {
            "text/html": [
              "<html>\n",
              "<head><meta charset=\"utf-8\" /></head>\n",
              "<body>\n",
              "    <div>            <script src=\"https://cdnjs.cloudflare.com/ajax/libs/mathjax/2.7.5/MathJax.js?config=TeX-AMS-MML_SVG\"></script><script type=\"text/javascript\">if (window.MathJax) {MathJax.Hub.Config({SVG: {font: \"STIX-Web\"}});}</script>                <script type=\"text/javascript\">window.PlotlyConfig = {MathJaxConfig: 'local'};</script>\n",
              "        <script src=\"https://cdn.plot.ly/plotly-2.8.3.min.js\"></script>                <div id=\"d9db757c-7ae1-4a1a-bc93-880a36801fea\" class=\"plotly-graph-div\" style=\"height:525px; width:100%;\"></div>            <script type=\"text/javascript\">                                    window.PLOTLYENV=window.PLOTLYENV || {};                                    if (document.getElementById(\"d9db757c-7ae1-4a1a-bc93-880a36801fea\")) {                    Plotly.newPlot(                        \"d9db757c-7ae1-4a1a-bc93-880a36801fea\",                        [{\"x\":[-0.3998785614967346,-0.3678649365901947,-0.35954123735427856,-0.3231536000967026,-0.3137447461485863,-0.30433589220046997,-0.3287550210952759,-0.33253753185272217,-0.30910149216651917],\"y\":[-0.3391225039958954,-0.3641473650932312,-0.33522629737854004,-0.33116355538368225,-0.41305146366357803,-0.4949393719434738,-0.49503862857818604,-0.611980676651001,-0.7211114168167114],\"z\":[-0.8762505650520325,-0.5883354544639587,-0.16988272964954376,0.12946803122758865,0.06451644748449326,-0.00043513625860214233,-0.1993793547153473,-0.3347873091697693,-0.5827561616897583],\"type\":\"scatter3d\"},{\"x\":[-0.25092604756355286,-0.196372389793396,-0.2867659628391266,-0.3231536000967026,-0.3137447461485863,-0.30433589220046997,-0.27991676330566406,-0.2867077589035034,-0.264911413192749],\"y\":[-0.31752604246139526,-0.394817978143692,-0.32710081338882446,-0.33116355538368225,-0.41305146366357803,-0.4949393719434738,-0.4948401153087616,-0.6178562641143799,-0.7334555387496948],\"z\":[1.2277190685272217,0.8535524606704712,0.42881879210472107,0.12946803122758865,0.06451644748449326,-0.00043513625860214233,0.198509082198143,0.20066753029823303,0.1718922108411789],\"type\":\"scatter3d\"}],                        {\"template\":{\"data\":{\"bar\":[{\"error_x\":{\"color\":\"#2a3f5f\"},\"error_y\":{\"color\":\"#2a3f5f\"},\"marker\":{\"line\":{\"color\":\"#E5ECF6\",\"width\":0.5},\"pattern\":{\"fillmode\":\"overlay\",\"size\":10,\"solidity\":0.2}},\"type\":\"bar\"}],\"barpolar\":[{\"marker\":{\"line\":{\"color\":\"#E5ECF6\",\"width\":0.5},\"pattern\":{\"fillmode\":\"overlay\",\"size\":10,\"solidity\":0.2}},\"type\":\"barpolar\"}],\"carpet\":[{\"aaxis\":{\"endlinecolor\":\"#2a3f5f\",\"gridcolor\":\"white\",\"linecolor\":\"white\",\"minorgridcolor\":\"white\",\"startlinecolor\":\"#2a3f5f\"},\"baxis\":{\"endlinecolor\":\"#2a3f5f\",\"gridcolor\":\"white\",\"linecolor\":\"white\",\"minorgridcolor\":\"white\",\"startlinecolor\":\"#2a3f5f\"},\"type\":\"carpet\"}],\"choropleth\":[{\"colorbar\":{\"outlinewidth\":0,\"ticks\":\"\"},\"type\":\"choropleth\"}],\"contour\":[{\"colorbar\":{\"outlinewidth\":0,\"ticks\":\"\"},\"colorscale\":[[0.0,\"#0d0887\"],[0.1111111111111111,\"#46039f\"],[0.2222222222222222,\"#7201a8\"],[0.3333333333333333,\"#9c179e\"],[0.4444444444444444,\"#bd3786\"],[0.5555555555555556,\"#d8576b\"],[0.6666666666666666,\"#ed7953\"],[0.7777777777777778,\"#fb9f3a\"],[0.8888888888888888,\"#fdca26\"],[1.0,\"#f0f921\"]],\"type\":\"contour\"}],\"contourcarpet\":[{\"colorbar\":{\"outlinewidth\":0,\"ticks\":\"\"},\"type\":\"contourcarpet\"}],\"heatmap\":[{\"colorbar\":{\"outlinewidth\":0,\"ticks\":\"\"},\"colorscale\":[[0.0,\"#0d0887\"],[0.1111111111111111,\"#46039f\"],[0.2222222222222222,\"#7201a8\"],[0.3333333333333333,\"#9c179e\"],[0.4444444444444444,\"#bd3786\"],[0.5555555555555556,\"#d8576b\"],[0.6666666666666666,\"#ed7953\"],[0.7777777777777778,\"#fb9f3a\"],[0.8888888888888888,\"#fdca26\"],[1.0,\"#f0f921\"]],\"type\":\"heatmap\"}],\"heatmapgl\":[{\"colorbar\":{\"outlinewidth\":0,\"ticks\":\"\"},\"colorscale\":[[0.0,\"#0d0887\"],[0.1111111111111111,\"#46039f\"],[0.2222222222222222,\"#7201a8\"],[0.3333333333333333,\"#9c179e\"],[0.4444444444444444,\"#bd3786\"],[0.5555555555555556,\"#d8576b\"],[0.6666666666666666,\"#ed7953\"],[0.7777777777777778,\"#fb9f3a\"],[0.8888888888888888,\"#fdca26\"],[1.0,\"#f0f921\"]],\"type\":\"heatmapgl\"}],\"histogram\":[{\"marker\":{\"pattern\":{\"fillmode\":\"overlay\",\"size\":10,\"solidity\":0.2}},\"type\":\"histogram\"}],\"histogram2d\":[{\"colorbar\":{\"outlinewidth\":0,\"ticks\":\"\"},\"colorscale\":[[0.0,\"#0d0887\"],[0.1111111111111111,\"#46039f\"],[0.2222222222222222,\"#7201a8\"],[0.3333333333333333,\"#9c179e\"],[0.4444444444444444,\"#bd3786\"],[0.5555555555555556,\"#d8576b\"],[0.6666666666666666,\"#ed7953\"],[0.7777777777777778,\"#fb9f3a\"],[0.8888888888888888,\"#fdca26\"],[1.0,\"#f0f921\"]],\"type\":\"histogram2d\"}],\"histogram2dcontour\":[{\"colorbar\":{\"outlinewidth\":0,\"ticks\":\"\"},\"colorscale\":[[0.0,\"#0d0887\"],[0.1111111111111111,\"#46039f\"],[0.2222222222222222,\"#7201a8\"],[0.3333333333333333,\"#9c179e\"],[0.4444444444444444,\"#bd3786\"],[0.5555555555555556,\"#d8576b\"],[0.6666666666666666,\"#ed7953\"],[0.7777777777777778,\"#fb9f3a\"],[0.8888888888888888,\"#fdca26\"],[1.0,\"#f0f921\"]],\"type\":\"histogram2dcontour\"}],\"mesh3d\":[{\"colorbar\":{\"outlinewidth\":0,\"ticks\":\"\"},\"type\":\"mesh3d\"}],\"parcoords\":[{\"line\":{\"colorbar\":{\"outlinewidth\":0,\"ticks\":\"\"}},\"type\":\"parcoords\"}],\"pie\":[{\"automargin\":true,\"type\":\"pie\"}],\"scatter\":[{\"marker\":{\"colorbar\":{\"outlinewidth\":0,\"ticks\":\"\"}},\"type\":\"scatter\"}],\"scatter3d\":[{\"line\":{\"colorbar\":{\"outlinewidth\":0,\"ticks\":\"\"}},\"marker\":{\"colorbar\":{\"outlinewidth\":0,\"ticks\":\"\"}},\"type\":\"scatter3d\"}],\"scattercarpet\":[{\"marker\":{\"colorbar\":{\"outlinewidth\":0,\"ticks\":\"\"}},\"type\":\"scattercarpet\"}],\"scattergeo\":[{\"marker\":{\"colorbar\":{\"outlinewidth\":0,\"ticks\":\"\"}},\"type\":\"scattergeo\"}],\"scattergl\":[{\"marker\":{\"colorbar\":{\"outlinewidth\":0,\"ticks\":\"\"}},\"type\":\"scattergl\"}],\"scattermapbox\":[{\"marker\":{\"colorbar\":{\"outlinewidth\":0,\"ticks\":\"\"}},\"type\":\"scattermapbox\"}],\"scatterpolar\":[{\"marker\":{\"colorbar\":{\"outlinewidth\":0,\"ticks\":\"\"}},\"type\":\"scatterpolar\"}],\"scatterpolargl\":[{\"marker\":{\"colorbar\":{\"outlinewidth\":0,\"ticks\":\"\"}},\"type\":\"scatterpolargl\"}],\"scatterternary\":[{\"marker\":{\"colorbar\":{\"outlinewidth\":0,\"ticks\":\"\"}},\"type\":\"scatterternary\"}],\"surface\":[{\"colorbar\":{\"outlinewidth\":0,\"ticks\":\"\"},\"colorscale\":[[0.0,\"#0d0887\"],[0.1111111111111111,\"#46039f\"],[0.2222222222222222,\"#7201a8\"],[0.3333333333333333,\"#9c179e\"],[0.4444444444444444,\"#bd3786\"],[0.5555555555555556,\"#d8576b\"],[0.6666666666666666,\"#ed7953\"],[0.7777777777777778,\"#fb9f3a\"],[0.8888888888888888,\"#fdca26\"],[1.0,\"#f0f921\"]],\"type\":\"surface\"}],\"table\":[{\"cells\":{\"fill\":{\"color\":\"#EBF0F8\"},\"line\":{\"color\":\"white\"}},\"header\":{\"fill\":{\"color\":\"#C8D4E3\"},\"line\":{\"color\":\"white\"}},\"type\":\"table\"}]},\"layout\":{\"annotationdefaults\":{\"arrowcolor\":\"#2a3f5f\",\"arrowhead\":0,\"arrowwidth\":1},\"autotypenumbers\":\"strict\",\"coloraxis\":{\"colorbar\":{\"outlinewidth\":0,\"ticks\":\"\"}},\"colorscale\":{\"diverging\":[[0,\"#8e0152\"],[0.1,\"#c51b7d\"],[0.2,\"#de77ae\"],[0.3,\"#f1b6da\"],[0.4,\"#fde0ef\"],[0.5,\"#f7f7f7\"],[0.6,\"#e6f5d0\"],[0.7,\"#b8e186\"],[0.8,\"#7fbc41\"],[0.9,\"#4d9221\"],[1,\"#276419\"]],\"sequential\":[[0.0,\"#0d0887\"],[0.1111111111111111,\"#46039f\"],[0.2222222222222222,\"#7201a8\"],[0.3333333333333333,\"#9c179e\"],[0.4444444444444444,\"#bd3786\"],[0.5555555555555556,\"#d8576b\"],[0.6666666666666666,\"#ed7953\"],[0.7777777777777778,\"#fb9f3a\"],[0.8888888888888888,\"#fdca26\"],[1.0,\"#f0f921\"]],\"sequentialminus\":[[0.0,\"#0d0887\"],[0.1111111111111111,\"#46039f\"],[0.2222222222222222,\"#7201a8\"],[0.3333333333333333,\"#9c179e\"],[0.4444444444444444,\"#bd3786\"],[0.5555555555555556,\"#d8576b\"],[0.6666666666666666,\"#ed7953\"],[0.7777777777777778,\"#fb9f3a\"],[0.8888888888888888,\"#fdca26\"],[1.0,\"#f0f921\"]]},\"colorway\":[\"#636efa\",\"#EF553B\",\"#00cc96\",\"#ab63fa\",\"#FFA15A\",\"#19d3f3\",\"#FF6692\",\"#B6E880\",\"#FF97FF\",\"#FECB52\"],\"font\":{\"color\":\"#2a3f5f\"},\"geo\":{\"bgcolor\":\"white\",\"lakecolor\":\"white\",\"landcolor\":\"#E5ECF6\",\"showlakes\":true,\"showland\":true,\"subunitcolor\":\"white\"},\"hoverlabel\":{\"align\":\"left\"},\"hovermode\":\"closest\",\"mapbox\":{\"style\":\"light\"},\"paper_bgcolor\":\"white\",\"plot_bgcolor\":\"#E5ECF6\",\"polar\":{\"angularaxis\":{\"gridcolor\":\"white\",\"linecolor\":\"white\",\"ticks\":\"\"},\"bgcolor\":\"#E5ECF6\",\"radialaxis\":{\"gridcolor\":\"white\",\"linecolor\":\"white\",\"ticks\":\"\"}},\"scene\":{\"xaxis\":{\"backgroundcolor\":\"#E5ECF6\",\"gridcolor\":\"white\",\"gridwidth\":2,\"linecolor\":\"white\",\"showbackground\":true,\"ticks\":\"\",\"zerolinecolor\":\"white\"},\"yaxis\":{\"backgroundcolor\":\"#E5ECF6\",\"gridcolor\":\"white\",\"gridwidth\":2,\"linecolor\":\"white\",\"showbackground\":true,\"ticks\":\"\",\"zerolinecolor\":\"white\"},\"zaxis\":{\"backgroundcolor\":\"#E5ECF6\",\"gridcolor\":\"white\",\"gridwidth\":2,\"linecolor\":\"white\",\"showbackground\":true,\"ticks\":\"\",\"zerolinecolor\":\"white\"}},\"shapedefaults\":{\"line\":{\"color\":\"#2a3f5f\"}},\"ternary\":{\"aaxis\":{\"gridcolor\":\"white\",\"linecolor\":\"white\",\"ticks\":\"\"},\"baxis\":{\"gridcolor\":\"white\",\"linecolor\":\"white\",\"ticks\":\"\"},\"bgcolor\":\"#E5ECF6\",\"caxis\":{\"gridcolor\":\"white\",\"linecolor\":\"white\",\"ticks\":\"\"}},\"title\":{\"x\":0.05},\"xaxis\":{\"automargin\":true,\"gridcolor\":\"white\",\"linecolor\":\"white\",\"ticks\":\"\",\"title\":{\"standoff\":15},\"zerolinecolor\":\"white\",\"zerolinewidth\":2},\"yaxis\":{\"automargin\":true,\"gridcolor\":\"white\",\"linecolor\":\"white\",\"ticks\":\"\",\"title\":{\"standoff\":15},\"zerolinecolor\":\"white\",\"zerolinewidth\":2}}},\"updatemenus\":[{\"pad\":{\"r\":10,\"t\":200},\"showactive\":false,\"type\":\"buttons\",\"x\":1,\"xanchor\":\"left\",\"y\":1,\"yanchor\":\"bottom\"}]},                        {\"responsive\": true}                    ).then(function(){\n",
              "                            \n",
              "var gd = document.getElementById('d9db757c-7ae1-4a1a-bc93-880a36801fea');\n",
              "var x = new MutationObserver(function (mutations, observer) {{\n",
              "        var display = window.getComputedStyle(gd).display;\n",
              "        if (!display || display === 'none') {{\n",
              "            console.log([gd, 'removed!']);\n",
              "            Plotly.purge(gd);\n",
              "            observer.disconnect();\n",
              "        }}\n",
              "}});\n",
              "\n",
              "// Listen for the removal of the full notebook cells\n",
              "var notebookContainer = gd.closest('#notebook-container');\n",
              "if (notebookContainer) {{\n",
              "    x.observe(notebookContainer, {childList: true});\n",
              "}}\n",
              "\n",
              "// Listen for the clearing of the current output cell\n",
              "var outputEl = gd.closest('.output');\n",
              "if (outputEl) {{\n",
              "    x.observe(outputEl, {childList: true});\n",
              "}}\n",
              "\n",
              "                        })                };                            </script>        </div>\n",
              "</body>\n",
              "</html>"
            ]
          },
          "metadata": {}
        }
      ]
    },
    {
      "cell_type": "code",
      "source": [
        "#generate new idx\n",
        "idx2 = np.array(['left_ellbow_angle','right_ellbow_angle','left_shoulder_angle','right_shoulder_angle',\n",
        "               'left_hip_angle','right_hip_angle','left_knee_angle','right_knee_angle'])\n",
        "\n",
        "#get exercise data from\n",
        "ex_data = np.stack([x,y,z]).transpose()\n",
        "\n",
        "#define joints tripple\n",
        "left_shoulder = ex_data[0]\n",
        "right_shoulder = ex_data[1]\n",
        "left_ellbow = ex_data[2]\n",
        "right_ellbow = ex_data[3]\n",
        "left_wrist = ex_data[4]\n",
        "right_wrist = ex_data[5]\n",
        "left_hip = ex_data[6]\n",
        "right_hip = ex_data[7]\n",
        "left_knee = ex_data[8]\n",
        "right_knee = ex_data[9]\n",
        "left_ankle = ex_data[10]\n",
        "right_ankle = ex_data[12]\n",
        "\n",
        "#get angles for joints\n",
        "def getJointAngles(joint1,joint2,joint3):\n",
        "  #get edge distances between joints - where as joint1's angle is of interest\n",
        "  a = np.sqrt(np.sum((joint2 - joint3)**2,axis=1))\n",
        "  b = np.sqrt(np.sum((joint3 - joint1)**2,axis=1))\n",
        "  c = np.sqrt(np.sum((joint2 - joint1)**2,axis=1))\n",
        "  #calculate angle using cosine law\n",
        "  cos_a = (c**2 + b**2 - a**2) / (2*b*c)\n",
        "  joint_angles = np.degrees(np.arccos(cos_a))\n",
        "  return joint_angles\n",
        "\n",
        "#call function and calculate angles for all joints\n",
        "left_ellbow_angle = getJointAngles(left_ellbow,left_shoulder,left_wrist)\n",
        "left_shoulder_angle = getJointAngles(left_shoulder,left_ellbow,left_hip)\n",
        "left_hip_angle = getJointAngles(left_hip,left_shoulder,left_knee)\n",
        "left_knee_angle = getJointAngles(left_knee,left_hip,left_ankle)\n",
        "\n",
        "right_ellbow_angle = getJointAngles(right_ellbow,right_shoulder,right_wrist)\n",
        "right_shoulder_angle = getJointAngles(right_shoulder,right_ellbow,right_hip)\n",
        "right_hip_angle = getJointAngles(right_hip,right_shoulder,right_knee)\n",
        "right_knee_angle = getJointAngles(right_knee,right_hip,right_ankle)\n",
        "\n",
        "#stack new angle features as 2D array\n",
        "joint_angles = np.stack([left_ellbow_angle,right_ellbow_angle,left_shoulder_angle,right_shoulder_angle,left_hip_angle,right_hip_angle,left_knee_angle,right_knee_angle])\n",
        "\n",
        "#get absolute angle differences between timesteps\n",
        "joint_angles_diff = abs(np.diff(joint_angles))\n",
        "\n",
        "#calculate median value for each distribution\n",
        "median_joint_angles_diff = np.median(joint_angles_diff,axis=1)\n",
        "\n",
        "#classify moving and non-moving joints (cut-off at 0.5 Quantile)\n",
        "joints_rotating = idx2[median_joint_angles_diff >= np.quantile(median_joint_angles_diff,0.5)]\n",
        "joints_not_rotating = idx2[median_joint_angles_diff < np.quantile(median_joint_angles_diff,0.5)]\n",
        "\n",
        "#visualize angle changes by joint\n",
        "plot = go.Figure()\n",
        "for i in range(0,joint_angles_diff.shape[0]):\n",
        "  plot.add_trace(go.Box(y=joint_angles_diff[i],name=idx2[i]))\n",
        "plot.update_layout(showlegend=False)\n",
        "plot.show()"
      ],
      "metadata": {
        "colab": {
          "base_uri": "https://localhost:8080/",
          "height": 542
        },
        "id": "zX5u3yd8HCNR",
        "outputId": "a737d781-a309-4b28-8cdb-c8c33ba7065b"
      },
      "execution_count": 37,
      "outputs": [
        {
          "output_type": "display_data",
          "data": {
            "text/html": [
              "<html>\n",
              "<head><meta charset=\"utf-8\" /></head>\n",
              "<body>\n",
              "    <div>            <script src=\"https://cdnjs.cloudflare.com/ajax/libs/mathjax/2.7.5/MathJax.js?config=TeX-AMS-MML_SVG\"></script><script type=\"text/javascript\">if (window.MathJax) {MathJax.Hub.Config({SVG: {font: \"STIX-Web\"}});}</script>                <script type=\"text/javascript\">window.PlotlyConfig = {MathJaxConfig: 'local'};</script>\n",
              "        <script src=\"https://cdn.plot.ly/plotly-2.8.3.min.js\"></script>                <div id=\"e8e3bcbb-ef2b-4bb2-aa6c-cc815727196a\" class=\"plotly-graph-div\" style=\"height:525px; width:100%;\"></div>            <script type=\"text/javascript\">                                    window.PLOTLYENV=window.PLOTLYENV || {};                                    if (document.getElementById(\"e8e3bcbb-ef2b-4bb2-aa6c-cc815727196a\")) {                    Plotly.newPlot(                        \"e8e3bcbb-ef2b-4bb2-aa6c-cc815727196a\",                        [{\"name\":\"left_ellbow_angle\",\"y\":[7.322513603686303,5.777181407618599,6.70678743871153,2.5116354959620537,1.7961281647838803,0.25327905656590133,0.8909271236578888,2.252952052565746,4.419420055680774,0.32384493330113173,5.988969113910656,14.492891490673571,1.2730870454282979,0.21791719791707465,0.29411963857535284,0.15074194153382336,3.5375968124799897,2.6122726582768507,1.5336034688187397,4.1589467839891086,3.9989244866915783,0.34114147416445917,3.5218173144981506,0.37666721978911255,4.433940008363635,1.8933890066202252,2.3232490576655778,6.022882389831437,3.0620862675810656,4.30732342815827,14.63348267947498,10.085605740378611,4.4001920572853805,1.6076799480830744,8.27834388582599,1.6890287145679963,3.5005216908147077,3.0759974679108666,0.4310080161677661,0.8481206198558766,0.6900542709508954,0.06087027321515848,0.7137578833346936,0.6054893770432273,0.06775523643781867,2.7394050765706766,4.761620094324002,1.6067910245302812,9.860334173026331,8.663381030209422,5.45031465975174,10.201270150214668,0.32395533538911536,1.4670793637338306,2.3727412795457496,6.815515419425026,7.09336176443702,0.6261380416089537,8.508132719495961,34.483477691406506,22.92890546139455,11.129735636911619,0.09793738036984223,0.2104540370166319,1.1966166743932831,5.015880287250013,3.835429774647224,0.5062706674051469,4.556868516845668,1.7048022604264759,10.082285555063038,5.863344556729999,1.4572187815183213,0.9799125359822085,0.24578947356854997,2.6133504834686505,5.58139920257392,1.1362873071683168,2.9601720080028713,0.4320807599404759,1.5365736853288752,2.511286916482078,4.186712284266008,4.420270946978462,0.8495129678989315,2.722540083260185,0.6825034100565404,0.13142249384176807,3.6145575376315833,6.496954081944267,0.03228806833772069,0.6627082951642933,0.9124718964070553,5.127868313952376,0.11386275182368877,2.564118906391485,1.0173676700105432,1.3013899025327476,1.4189089998245663,1.8839023384680047,1.9181010780845043,22.133867594310146,48.83961697746143,59.727497883517415,44.809617561934786,59.16517812345835,14.545286838831998,41.59280213878134,10.245186311420667,8.05549661144579,40.96519236525387,19.391740951416807,72.15144686014776,67.90077765856218,48.436705217104034,57.079884669192,85.49177060673416,3.803304406017162,2.4203322284934643,1.4356426797691313,0.5605297189637781,1.8467024213053094,6.678329843199606,7.221274629818879,3.2767897118308156,65.16446070100439,11.347174390457525,14.711450565115356,30.856639520482602,83.24298109662043,102.10782050910129,111.98827027178592,60.17172002754677,22.695422576336895,35.601783183382125,2.853633619144375,2.1878591753841476,2.071506561528736,2.045368610017789,3.5785822085749146,19.652495044052728,23.049822281327977,11.91897810639037,11.496519253104594,0.5126188604475317,6.471321902236127,1.8260483145444937,5.390503859253897,0.2219063915092363,0.4765470939301224,0.3410108613201146,4.7599547696252955,7.738803790018068,3.6281436173932207,9.816540514023586,2.1239328230023773,0.39663669099854815,1.4674408349413852,2.152660068776015,0.4297388029096396,1.3747876615902612,5.337598972416714,0.6257687116002728,0.8394720465718706,0.5845566605578938,2.0483725334065355,8.153898949585283,5.7136299272675615,0.2817467108188225,0.623130174204249,2.7074436892486915,1.9456651949001014,1.345778331042908,0.41218876547210925,7.959049295448125,0.4467347639264858,32.84594119295389,30.51560053975018,59.088228331456264,42.28257835649627,30.085425462877026,44.81442164480983,117.2772163630788,0.1590141446332325,5.94404710119565,2.9550801737200345,3.2573029818846067,2.423841456616543,0.4669029472837849,1.0305333081567198,1.6186214011437698,1.5196212760451715,4.155443685351457,4.40790509531908,1.1621482913865862,2.45618665375153,2.215047754047532,2.3645198649952306,2.0045412165896153,3.8425793082443818,5.049158441553857,1.267978776164199,4.401161437657038,38.20068162173044,39.70130086297121,1.6282825492075688,45.525394542944156,49.0359899720378,81.49967377440315,8.44655492123789,4.727607702888179,6.624823827369255,9.720002621198319,6.5214408982636485,3.811102688853282,1.4056505811118996,0.013596910925798511,1.379822180878847],\"type\":\"box\"},{\"name\":\"right_ellbow_angle\",\"y\":[29.371992850611576,0.41781714134236836,16.265840500644245,0.10098058685129274,3.4829026524346745,17.707235449239988,31.190579311407774,11.714537835660224,0.5501014187565687,6.714144717462105,5.741529294422634,7.575156923163689,5.0470129313747805,1.0852318458537695,7.291380927670986,6.490185057864579,4.107354650626462,9.100886043638042,3.2634399824808895,4.602019904353256,5.691617619639743,0.003895913557272479,1.7144370452924136,7.8897603112386605,4.080242010107469,25.724119219362834,16.893956510484216,18.30695374691254,0.946682486364864,5.7880611499413135,11.437729282759136,5.904931336641084,1.8824165358067972,25.720908109303124,12.253881308417277,0.8115485226737178,2.0832278580084846,15.62526287596846,3.4190324077868866,4.728946656550747,2.8075013187135767,2.814305417139451,1.8864211083285056,2.475847534956543,4.2630050655752285,8.384368893065982,11.963706625604331,14.006450751968131,5.225485428681736,14.14051576253857,6.39120648637612,14.71402173441146,25.743641492605903,9.408710221249677,20.852908895624267,11.072837533886627,15.419025790526945,18.004908078645173,17.69408215189202,16.062892455945544,30.728166586021032,6.027272903784734,8.309364960274394,5.969594790634488,9.062983784911438,25.613771526411682,26.14480640120877,18.934814789140177,5.846995146898223,12.52906859007686,36.185443779307974,13.615770487372828,18.059255994209224,29.465662507250016,27.615606014132737,9.1489203899107,4.196387810480559,5.53255189697947,1.477518115564493,7.252551226510633,6.361680730033072,6.198385228003957,24.727027241069692,15.410955900377473,5.661400701124421,3.8887009051059636,0.8384751243175117,6.822672276295918,25.04550929337657,27.423058365618346,10.811489667582777,14.036033822996131,17.572363622652915,12.918151571181852,21.187796262914134,32.13325538852271,1.464492869486179,20.280585204398193,0.9169705773083052,8.158859364803519,7.407986229509419,12.85178365913282,21.65527173508633,12.611445158043693,6.047589028079187,95.19441185502612,87.91760793183741,9.976235283676317,26.71609309031581,30.982003177246668,25.996531600689877,3.2587811595339247,59.56932900895475,27.74873192557766,10.109572607579338,57.1268232212897,39.145321052054555,7.052239696606733,2.7700882449456543,35.108862889217605,23.552624410094438,9.988098553712788,22.764942386832033,12.056805699937854,6.537482594882448,2.9812124505766633,19.417356677575043,19.757793861417724,39.62561818342599,74.6777061872757,8.269437917939285,13.096235724228933,0.6280850286399584,2.132908356876115,27.730601768984698,10.622633867679099,19.515913447099877,4.286722884787167,13.112453631152448,16.462488638757037,9.060665333111814,29.92697756889811,10.134638831457721,18.371042736469548,14.278038142874237,14.939236250794977,13.88364298596278,13.690990450743186,8.268131309648965,17.278334088453107,0.41770004846173947,11.356927309808214,28.842881831086032,27.75466964645537,29.048892983931353,25.36623336402434,26.9733677017512,8.595289384480296,25.93011474804763,27.949187050436734,5.817951142212763,1.0852639371617556,19.59156944861917,11.043922594553266,10.91557513649289,2.856107952677661,5.263657400126846,18.994722027971022,8.51075847144952,18.31859914025989,1.0869145260513733,6.480859207186342,16.3965538856815,3.818690993965731,21.83543212501749,1.7328946362725333,6.779404669438179,3.5922512141279412,1.5218289093157154,15.673921947433627,23.482653902363097,0.7203833426579394,36.744251705664794,5.944216812544639,0.36919703659451386,0.041062130284515774,0.4125546438428813,5.38095798724116,15.518116718615005,9.50903110245953,12.608900424948999,1.1421089857592364,30.919471976530843,19.114982043732013,12.288494090777604,0.4490502929978675,7.4810804729951315,9.593612602484939,2.059174525286039,15.622569759246886,27.453503330169013,8.074970423564963,16.333615408330814,11.48302097959467,19.75375648047404,18.002958292077068,15.224523590353414,5.65998793881235,22.164342773286393,9.472962849966137,2.410582413084853,4.713386747427762,7.082615528526091,6.060864100916078,11.63950888645519,10.704883647290075,7.027892072991278,0.8336111137800231],\"type\":\"box\"},{\"name\":\"left_shoulder_angle\",\"y\":[13.271536494832446,0.6239188503120658,3.9551672266782134,3.590628277598441,10.369161680726975,6.73520811077023,2.6745106671431103,5.532303269642398,2.27985772638732,1.5762758121001212,2.9031673108796383,5.315024292237027,9.567727662678479,5.976867789811436,1.2233344407104738,9.038576730450913,1.8113461886831033,3.4731726058195846,2.6717490379018614,6.57244192848249,15.487676190860014,12.190519508503215,1.7785386993710404,4.054211537813103,12.39760486427825,10.169856098449642,12.655585498371124,13.250581371776136,9.590039527745503,0.3056675885163571,10.988549247035607,22.04560857428912,2.113054758101498,12.753058041631988,3.8090222623371233,8.372558010386427,1.5585546567447608,7.612403483249196,2.713361077039039,2.0306982918996823,1.0728773684926551,2.6606257169443523,1.2180527236392749,0.1724977064896791,6.9262872975894965,5.657309151446356,6.2259276145830285,7.550211731066497,8.897961566165861,10.236627222271323,0.07910122873249747,9.6999262854889,4.272712378387126,1.0137908322277696,4.301755121051002,0.558307121232744,3.296182432983244,6.1935828002960704,10.622731133303873,24.30637392571748,37.18910380286545,57.40828904168911,5.910988225856173,4.7363244259438915,3.6104619952498638,0.3047077451279563,3.744333290078032,1.2066585118096071,4.2398260570827375,4.310086929150103,2.3414646156904553,10.47982766562889,2.0296377334805555,0.0831445986683832,11.579192636301926,6.779166377419898,9.504792301561366,2.3207029988717665,3.277426321540986,4.61618034512297,1.1381135636231505,0.34642934397118097,3.9971334133858107,4.661632992979818,3.1998468299249936,1.1497913487426104,2.1770777557673284,0.5786828791892447,2.931281442684025,3.649465954611415,4.62788710067835,6.922817095583511,5.722207702193273,5.236178818559921,11.051230078267963,1.9898580824602305,1.2226401766231305,2.1534277405945517,1.2232751364010426,0.772678579240079,1.2591794914027474,29.88796585973877,0.929402495166002,64.48775324342374,24.056726964090046,22.954172135511143,22.096233567007758,19.397756171894585,8.784436067848972,12.740653272667998,23.6457759246083,8.565753205850342,10.43409239788059,18.470271440248467,32.068995185240055,44.22533095706922,11.94232566104877,0.8199651259270411,6.181922885684827,6.037032953822916,11.161666317760904,1.435969235532454,14.555750773616737,4.486471879653266,1.8146173030005741,16.425775534646974,5.572315598588631,10.268080728607302,17.721951607528055,18.441439751944273,25.140623431896245,23.11826810166795,19.176935817114682,19.860776172822895,4.960910141988165,9.36006592343918,20.98032675038708,19.31764122732693,2.0507756228751646,1.0448222677588461,7.165364563560317,3.7208616458476484,4.812859255102069,16.185033602408552,11.956437477219481,6.420649942184781,13.566319040870269,11.12236958399393,1.5164815775196416,3.942387772540897,4.232599952478978,2.4589591479974047,4.358858032154302,13.593745508575893,2.2228431311335015,5.117000020414849,6.069499489735577,3.8166609284543824,1.290650831238949,8.851539816221361,4.402913931999805,3.8797981938294015,4.749101165111881,5.347526757305275,1.3863001389804168,6.084328973173925,7.530727196263555,1.7928587038357762,7.114327369543673,1.5582071291481299,1.84207007165773,3.516043455134138,2.3541973852990736,6.160473471977127,4.904213716073258,5.163533169757244,26.12448508277005,25.981412700013678,15.98974678658378,0.21298775782561563,14.156737419190293,8.68257512116594,5.082724395403147,5.180275449837794,5.687860932237228,4.5672081706943715,4.932803275207405,8.743940645879391,13.17931895697167,9.748796421885743,11.305770253754204,0.9970109575734654,13.47077414645014,3.6000540157025966,7.101059438545548,4.500290831187414,4.61572946524187,3.0580157919360715,4.995930460234419,8.749345789949302,10.36995573192631,2.9899619407567,9.198269547819109,36.24570237893312,74.29834548435436,25.327817541237593,49.67308788446931,31.056939325567853,78.92173384867183,5.900049970711265,5.694004957647991,0.6724906818412393,15.08592160701157,1.97292878952166,1.3329087208516484,2.0084030237811845,1.542763425622411,2.9405079422509175],\"type\":\"box\"},{\"name\":\"right_shoulder_angle\",\"y\":[6.857377201536195,3.548717393357876,14.191685577590818,10.03082669747004,12.952555211852847,36.74136334491615,73.30282619348144,37.7966748932618,5.365808593131547,8.66964110397187,7.767095029580517,22.030334144071652,10.604009502281578,5.798144663731456,2.1557007675734923,2.4479981285082744,1.7536660030057476,3.1648145310454225,48.15804902873937,17.35291681500427,29.763535734185922,23.24324029225361,23.801333330179254,29.13316571318123,25.950243554765283,30.29467007180275,10.638413634491883,42.217405788686605,21.476820062544157,3.443606676507329,15.889082896470498,3.1341489801201483,1.4255165466475113,42.22826706310181,13.491010137592674,23.328389237689997,13.097917270690246,6.9599395974984475,7.2185230320733496,1.7893780782170374,4.214324781383585,4.920770235966046,6.488337271807602,3.8972222036768613,4.628631502160523,20.748685849370013,21.291362887851555,21.02244815561039,18.324772303283147,7.147017639815445,7.1112724091755695,35.11337831655717,41.37159776368766,44.37030219506228,35.98769115904233,8.158286318885011,17.905812546597623,5.602445039346851,25.51804528786852,29.672446300398136,28.424485335394372,9.186603853717322,12.822745154750578,10.487223158150456,0.18029880028970524,9.809089922715124,9.907899981795808,19.961663845586173,2.5072514471673912,34.819258041961646,10.284634539021441,18.18571686036116,13.516722779460146,17.363329669323235,6.011684682107614,7.458250070546086,13.433168301883178,10.038109534906525,10.825846558633422,3.3011274219472533,1.5145094233086986,7.7953118883849655,12.90679178310031,5.279379354750851,8.00289658795164,3.5601644663506917,14.32721811822492,4.932262868853719,15.203359413871084,16.396647975438313,3.2424241327588987,9.332403639187564,13.493650465599028,5.828278853139992,24.135597731826792,9.843986593003233,0.4653119924589397,16.176500392557756,1.8177958067416924,6.688492834801963,25.93111117046567,7.493919995677427,8.708288553392446,22.54182041270826,9.542309841496056,13.03459385414979,15.746423592098083,14.179918755037662,2.149110077264325,0.545538579169417,3.882182087996668,5.268586889377332,15.958567316515811,9.04231018679505,68.61856881798936,74.09000068404173,22.853599344609812,12.787278976053024,5.651069666206595,25.232822826322042,2.0286152504089543,10.45303326063258,8.170671204301307,18.386343547394034,15.893781779428124,39.801350204603914,3.663817540991353,3.986004330152518,35.071290110268706,55.22985986879323,25.88839827898977,20.501841165453698,14.066022696820163,51.4130817375762,74.34329751783072,9.27591103551363,7.3021802317660915,2.319952107912229,4.834579151386958,8.826393578221928,34.433034520542435,43.322540721818896,20.124422237825918,17.0500788571501,21.2220540536882,15.605103328340387,11.562555144929771,1.608485526810938,14.75193426230894,34.76924806375065,10.016762611340738,11.226721179560103,20.249800503444497,12.698198356868016,2.1524691114364103,14.379769449375335,15.786106403469702,1.563822361762636,9.654459764963748,3.211636012758042,8.092812591678383,17.07335810334639,6.861101263785919,18.339675761567648,4.122759559371792,12.044904926710835,3.422423001688081,12.756373024918979,3.3382300065283737,15.572798916435737,0.16676279611380096,2.738072522983636,13.827705095715551,18.45900136127016,10.985258159158,10.633974470225787,12.135569796285537,24.768788496523477,17.381379070535687,26.350880131864763,12.62737000787709,43.90502055876232,75.6780576743997,2.1741108017728905,6.7436943532768865,8.089018103374613,4.364812036964182,8.339008211257386,14.108812004600274,13.368852735789702,10.763282001184681,11.052118792165448,9.91316934075845,17.40295088775894,14.914447856401221,23.96794810004027,17.105769240824106,1.6862994753235796,6.899689453806662,4.754222506634111,8.638200841109008,12.477040315241084,13.718259842414582,39.214837622197614,48.983190201785604,5.95180688885263,103.31072727098294,14.909433351600574,38.25167848454987,11.247916268207085,0.16323920034729156,2.5671546636321168,6.570696992302942,2.963909426698933,16.81789055075103,3.995810407232419,4.646967412376775,8.046933991603233],\"type\":\"box\"},{\"name\":\"left_hip_angle\",\"y\":[30.071250475012064,5.593185779338171,12.897914003424575,14.632279427364523,7.683281733480683,5.782540538680962,5.692160163831176,20.53271588661758,5.2901155943385305,1.091860692627236,2.549394072200215,6.990513913535224,15.34842391887581,13.617505844724832,8.822958831011334,34.426539403663966,13.489047233546202,13.761869899214943,11.893364230179685,2.838898830876502,36.96765907935753,21.56493845183887,23.281250415457052,21.70424778159112,32.085443265962866,32.763602364273396,51.71780296376006,57.65098679858652,0.42907157059266865,4.6498731193617715,22.41231061415641,17.437200050706934,7.327733312377987,27.896753580910485,3.6914258388043777,3.094173225486699,23.522722164680673,19.067305751596095,1.0293579876203083,0.9753228551256541,11.623151264160725,5.953319553451848,3.7695709404675597,6.074975449281517,21.86073529093386,33.19774500886109,59.9815163974446,74.19940379593288,7.516223436315883,7.640948590845298,13.423713521521236,9.626739594990326,11.364347811257375,17.792815380708745,6.388636741442454,25.130864748599933,43.96787736978139,30.386005984463203,74.73865630870196,25.430114304280323,1.471821948982381,10.07286470188302,10.210465719391351,9.774117504124376,4.153127528906538,14.849920107942168,20.931155465319236,6.021313261261355,1.7662031174064055,34.599610252781304,16.00668594165569,20.2969080400741,6.004157639396354,9.087052421947433,4.459508117175659,0.7785282325792195,8.748569146917106,1.9665124813203931,1.1532420214635977,6.354576639048275,4.9491937956678385,4.18400927171345,23.373369768741682,2.7852478915728938,4.7219061910304845,2.6498066865135,13.746505462913845,3.209622345680799,11.901657080608388,21.050723925095042,1.1814773045783227,8.90668447514534,5.929947342178053,11.584638333160768,31.887418419349714,14.213754826368216,26.131954354294137,5.44659464450406,6.914125904183223,2.307940789844011,2.934453645521799,26.920606680829437,20.487797480102316,6.964948122219084,1.9180625630121142,34.80182582034965,12.25974969790002,12.563998096561576,27.621421754884935,24.423173080774845,37.00303916726418,13.413720490669036,3.346855718544546,40.91038632555359,39.641281900304215,53.888062813268036,37.392430065946336,2.8911857308928184,2.618855794203437,1.7404711694039854,1.8275946881340062,14.19646289498694,6.141354673633629,2.12946264905419,11.927282748088697,53.498418531390655,23.54781002454301,20.4884585757778,14.434880934713263,28.663393183769145,36.39572170528335,17.705015603346233,28.82499839418187,16.486222095688866,3.4008501262343174,9.156530932612185,13.988825993581628,4.034974589702301,3.7244017966402723,8.752289746109401,42.165088706613076,5.697149425067295,57.073583227600324,9.208563776933644,6.837500454193929,9.194652074944884,10.931225165223566,11.850456280560877,10.705623125916986,17.328188267470026,8.179757397067917,6.385135134679132,0.7891963568802396,3.9372557027369623,26.665402165063938,0.40869392455697096,27.060468117169407,6.388807410722038,2.3061093334902836,5.184475680235423,8.316130486430794,10.569682011334777,12.633747875219711,8.02884760415543,4.382947937125692,23.06646069954826,7.194994050723068,25.520337188134775,1.0079927258697126,12.002446496574379,4.218438296210209,2.70781432093699,18.53515322844592,9.09836794524017,12.08873119126713,11.659523710883676,17.876402668628444,10.896838365413387,37.95165228493944,40.529403802273876,15.852885224813129,8.860856858675369,42.06148623475326,28.409822414419505,23.75258230515814,33.177688241119,29.5827370463843,17.57974046996566,3.6846397342344446,7.721156864824046,11.988574866255313,10.667450961920757,27.49913553017675,31.54176359007934,6.32079370867276,6.628915685394325,14.110941130278231,1.3009647977439656,0.8231167410500966,0.5410615886965786,3.0444732318226073,47.83738463445152,57.40575541330891,23.399940196438095,28.996473570409336,32.86426423345706,116.13242861580827,0.26942989563133324,35.62059605613757,6.186807839315335,8.185088934097209,15.331585043118139,1.4059047857793985,11.293497202410208,25.677132762159147,2.212160779496031,1.0825274977670745,2.0673129324941613],\"type\":\"box\"},{\"name\":\"right_hip_angle\",\"y\":[7.670874866189791,1.7712244096037182,7.091293674446433,22.335186019002137,20.553005011866887,19.212963127241693,3.293241320475488,2.6059628893942204,29.474289074602098,10.971747152636638,5.182715946360744,21.447469905549085,34.10309848012845,43.83933787665399,7.360472281500023,68.8987425010574,4.274849586743528,20.35295262366202,10.356655230302323,30.527059100879043,6.873859069631877,10.754623607883474,11.602060114626191,10.395179210019911,14.29676810193574,69.83387008579854,82.84512358353176,92.17841773209283,0.9566661725652352,18.352532890110453,26.812026409655473,50.92560505906651,11.93835132076326,50.46995356109508,8.587621919640071,33.1990190316731,58.932435008801036,11.432775366697058,4.81239842898043,1.8469049717241148,7.298231751425021,5.701405776572315,4.79759105939975,21.819901688485615,18.73309016319179,67.03367592832161,95.64988467167305,69.16575279873663,8.54498741709051,31.00163505509832,2.2101194870004264,2.9002627885184467,17.42554367217904,19.12450602824886,55.957195566086575,39.52566824286434,77.57296010344777,6.573659759623311,18.81206789164981,73.53520670463766,1.478270680236534,28.268350200136908,16.102066102693826,16.09144037863301,13.507346032132048,12.234674874721861,7.754606613005365,26.15736566402576,23.24922486212921,26.783605418616958,38.892342834537075,2.826620769069777,12.52361324042171,0.28832183354467134,4.1406179969722245,7.397544554311281,18.387022586383097,3.3294886797051504,13.80516884427712,10.095988182995939,2.8887830001885675,9.128798619019989,6.371278069595775,1.4535451774085288,2.0656988272590695,0.007854395124354596,0.02387308260082932,5.467082135348363,5.945455974205373,2.7854186286965046,0.29058868134796967,13.68899410297405,12.609022980407758,2.7168523350098326,17.940568278446676,5.420002266766332,8.633287173959403,45.29573204273727,26.810788727683388,21.084955570832804,53.11350112049334,63.027131661676606,13.330714838847484,28.726471292908442,10.511280447501079,17.137600388369506,3.463228671760916,1.3620005649369205,28.114863523497803,31.888936682189097,30.258140803235435,1.4553567254771878,26.797665952489233,16.153243548430545,63.78763615271087,71.57796657184352,58.51238971771188,10.031881716181505,19.21402362840439,14.818768634077102,0.8132495855284247,20.50956728200903,87.96925180894713,35.26616289618306,26.9507134710053,9.060890200770672,11.517176473588009,36.644828921821215,9.268725578911472,26.674728699088497,50.84075891379998,72.03283328637663,67.65372641919282,38.667814384996596,95.92853020544942,29.458144231982814,8.107137347299044,9.95731637211155,53.70819295932954,0.3346423595532855,8.502347335990976,18.26179873497722,9.967677444426613,1.6978283011784185,20.609969668922133,43.08046962051107,28.3074842471229,4.497491388513126,19.91021137366353,20.221388908680026,0.8673942304237698,24.43282564776389,0.4204629469478789,12.001510631021034,5.185233436540528,30.5031189394293,35.423989319623246,17.821275560009,0.48038952882711783,3.8258214689945333,0.8664375879356072,11.312195737780556,1.6773828281416172,8.16157083124125,5.439201105849591,12.794727374065204,55.889301382985224,3.9313197838152263,15.821924097206463,37.266828987063775,33.74858001477101,18.865963508702848,3.3152367140843637,16.425992262653054,41.09721042060632,68.67475456433215,33.79278154168972,0.47035295135339084,34.122672460180596,2.6071985984578276,4.755168217408908,7.852532114671931,21.90283079454079,35.66040523513121,25.986620439976463,9.701931916789405,8.25718274340052,0.23104215862815636,29.51344076534395,18.86565871259055,17.829719485727374,6.774336238930822,5.40630450116241,18.23868799376639,0.7851764086793196,19.445583961211625,30.468547905108927,1.8568006860625914,1.9754600770750343,67.99141592070723,50.64129270643621,74.05947414823689,12.720772119755765,24.93902094386587,11.481055251035556,52.95674471394815,83.6739117464542,9.643262237094604,48.13303406117501,6.286088095256787,3.610325253572114,16.787411644331115,6.491707355549579,28.021679254271334,37.88426101860148,3.1265930130095967,0.2995547136958123,2.5635323799465652],\"type\":\"box\"},{\"name\":\"left_knee_angle\",\"y\":[26.994760987592628,10.487984884741877,9.188529919418556,3.6416588095501368,2.0740229411840687,8.448403434158934,7.1133635942596385,19.4714456928496,1.6499489344390668,5.345144857138422,5.426078209673221,11.390283923274154,17.621135100060428,2.0731757280610736,0.11457155839673305,4.553269108347223,13.409920899195782,11.300903207724886,6.448236478509145,34.98571244299609,46.19015224407575,32.855372253667966,6.311492815627787,41.510138201750664,8.23840107153866,15.083004881557784,22.61037535206178,26.195282875713346,3.816478530133523,0.03287936283656734,23.307428758143857,18.504811742565508,6.679680758645844,20.501841199865353,1.8526939279561958,1.1477474976144748,13.370203721433498,15.62762989552396,6.66540509416695,2.387094695378849,6.070775549260176,1.8469235577666154,4.363259574363312,4.429253319796928,11.910944233742853,22.49546102590726,37.75601991209102,60.24469749680058,14.269222130586869,1.7103532333537004,5.635746327213937,6.287431557839383,0.19634119147244178,6.580850955453599,25.66235594148445,21.82022248499844,22.45590826369701,14.725058825511653,49.763038474657705,26.42583874427234,2.3029206040943393,17.843983533167773,0.2289268442856951,31.550705831171115,29.958026486458095,17.515123836691487,1.8538479239341825,0.6948211535581947,3.750298841080564,19.237889386633043,17.70881722453811,15.357135846868601,6.779156877783549,3.9075954513270688,3.94415736037368,2.7903143241106534,0.8200387312789132,9.226417284217888,8.001963822179675,10.096187090168684,2.1214139804737044,1.589866855256048,8.74470896651772,10.029728588310945,3.9515675997396897,4.919301803898691,6.377567872684978,4.986299075562613,11.866489248201333,12.842028819741813,7.368665603963905,5.044401632563961,1.3499735549093543,4.328913315820273,16.741807822965114,9.182908012021556,16.373524955104244,0.7327265799381166,3.0319300610660775,3.699008450555567,1.6349994286445053,5.969230191690599,7.60561028978762,8.288161648659127,4.801200839232791,5.50522875383254,12.67767339425319,11.172753341995616,36.92393376525945,30.099903554995677,63.76177392726612,27.92986884567337,1.2920466741022523,37.19312976825434,22.397430326258785,28.861729006324623,40.75306349079892,27.61214851303008,38.4807523512787,7.048316494685906,0.04842611951625031,8.738848196710805,8.222122759585197,27.82529692565994,12.034815893770734,25.30928669612411,19.168085514109023,8.283108642698338,51.22768934654691,47.21675974278688,8.562203765734225,7.902867772249316,19.516910865739668,50.309398883497366,58.39923503469292,1.0085808049204985,15.536529478030339,9.257864492869878,0.7931848209682997,1.169142154476269,43.12640160273115,5.5382630237886445,48.94344461537038,10.581383417802101,3.8330873103254532,15.349160946301538,9.710073675507232,8.401128595837122,2.1563772552180467,3.278641157121797,1.0510012365467958,8.4298531519579,7.04860852713216,0.08615878059910642,11.134918352842533,14.410181735461634,3.1619876051470897,4.027523804798761,6.921117842097431,4.288892462960149,5.428523115046744,3.5855837837278557,7.612630163927349,3.6296242270594803,1.3591855991282387,10.954651272500229,3.9783407161556,18.952695216723157,0.17412994086231492,1.0068160462251683,10.019697717059557,13.986865162922697,15.031427416245691,20.414657680827503,2.616205567072541,33.667407747402635,19.2143906518738,9.72240092792741,26.583098869362516,36.950306256536834,42.76613049583608,57.21089083301608,79.13862918231686,21.250648215532152,12.515861250113197,21.112348553032838,25.29065451910955,17.77378594334086,7.632305048462776,9.597357083812575,16.609309885903926,10.950194002485915,16.883304440367006,23.383760475100665,2.5677848676663473,1.5617553569849179,9.250078737062125,2.53956975837432,5.629806467123366,9.841379553481637,3.52178247214259,34.2839818597108,51.39055935238996,16.977811394233782,25.565366810391367,6.19598204532906,25.94756602891485,3.902230194021797,0.9695975155019028,13.648424473419908,8.430460264587538,12.226978440518536,9.157631904608422,0.24305157100386054,5.420849444828377,4.658972606474009,4.025918292283677,2.883562145165115],\"type\":\"box\"},{\"name\":\"right_knee_angle\",\"y\":[11.799840991704428,0.025559806932701434,7.864225901265225,23.818513367192104,21.600592162949162,21.932987735542582,1.8780227700184469,2.1030070526378424,32.57151662527086,12.351462241657927,5.681654794790191,24.025349092350694,32.61969480501705,39.86399158032215,8.507311178569083,63.20554699438015,4.521627028587872,22.054485893258878,9.57579522798224,27.561618518831153,8.890591513744923,9.016353183989196,12.570529631327801,12.801143347313172,21.746792235151148,63.16179091296293,74.34552951048761,90.27857368978573,2.0387886835961417,15.618000240757862,28.855838251656316,43.373668198277365,14.972859597839822,40.97926302419498,17.110036786292376,26.120068885424278,63.78131517068109,17.423954971800057,5.123679258849407,1.6244973203796462,6.025647933053136,6.901070678580211,4.331434302803913,22.008969609170983,21.31191361165144,57.68559969297264,88.83297004726171,57.77752859722855,7.131988622366833,14.118192787975957,25.947912067028753,1.607567827121116,22.13984436736915,15.772129481250246,55.68304201489724,47.57724137253381,87.43726708239211,2.8588815800836045,17.24272061519808,85.09823009473703,1.3077253196288012,41.362517154172146,15.041253851913837,17.006365988741493,13.834526600911204,12.9582560619384,4.791931394997832,23.2444889147138,23.134335392914004,27.03330827076102,41.78369432337735,3.332562656929575,15.443221060626136,2.887545351384233,2.534128458409512,7.133241969710525,18.52902188710695,4.40762185204845,17.355244757251263,13.976943148286551,3.7294212478726436,11.79862899941476,0.04909628182574011,9.95365292206629,2.89188568555549,0.8699728258921624,0.016313101251888895,7.6789973337757225,5.8654766033568535,3.690780516020844,0.9601681904726718,15.988709652679162,15.301160965022593,3.585890669037312,17.467234307200176,5.928368487580947,10.636355877014893,48.65286296860676,27.920655361456696,24.568661769666498,56.45674049053488,66.9400499281531,4.203944698335846,10.563376556458909,3.3305078014771254,21.8494759562033,25.657663904463,14.444460631318876,12.393375760862249,11.629883864924558,10.30698846169026,18.9764278382112,43.53676769051736,53.1448392912756,144.3161120851168,128.5079782021161,104.51773323923229,13.989768641250919,27.78918268066819,17.801786600270702,2.856160392746702,14.606901987271542,88.45239907007156,26.58319066384431,17.695068438650615,26.076158541573378,13.294116730575077,31.93581880478944,30.082359834492244,93.51116197172209,101.01389327917141,20.15646650460983,38.216709750163965,15.035418858753907,8.783705097524638,30.989713247488503,2.5462664107296007,20.02558310911199,50.634772758926985,4.880374399957276,3.6327154951163294,18.149961371625352,9.591565913566434,2.6066463297285765,16.52542792463035,40.61131194072939,28.05119506964831,2.2463538917015384,22.60594759249217,22.75620778400865,1.1499833487797133,29.168780502484708,1.9530945373567548,13.56513939393301,8.117459951096883,34.48419873321002,37.86651223707261,20.770967038968678,0.592749120066209,7.59658605007948,1.3506945950515004,12.31781816497886,0.5719270315304499,4.646289959048815,7.251439317442006,12.585107682873144,57.30898498570161,4.555510351241324,14.812377317662467,36.27778138762497,32.36267463293764,15.453772092985758,1.1217367985049833,14.173128726665269,40.7101827019994,66.19808347595497,11.45944138143355,3.3084008088428263,49.13529540185428,48.19648291462302,2.881293557273885,5.6234938268341494,35.215256022820036,41.674130160884026,26.067696067470116,13.206382741659596,14.470768073246404,7.743212797695094,16.478054366095378,11.408391681062568,5.216493199121288,0.7858000082230205,6.342296953788875,15.847348997280633,1.3482443035107323,20.417823063170765,34.115768388919676,0.8314901633509493,5.970165001786285,62.78319533254959,50.58428098753699,71.16975217993384,10.746114974322829,6.116348658148585,16.02187705819779,3.706990297444918,20.97581882057655,4.900116093467673,57.18368185177157,10.66802647183654,6.792123872079564,16.868725640024657,2.3938291382916788,30.679203838340925,40.47124329347275,4.195246438343833,0.03151893472713496,1.1950070488059126],\"type\":\"box\"}],                        {\"template\":{\"data\":{\"bar\":[{\"error_x\":{\"color\":\"#2a3f5f\"},\"error_y\":{\"color\":\"#2a3f5f\"},\"marker\":{\"line\":{\"color\":\"#E5ECF6\",\"width\":0.5},\"pattern\":{\"fillmode\":\"overlay\",\"size\":10,\"solidity\":0.2}},\"type\":\"bar\"}],\"barpolar\":[{\"marker\":{\"line\":{\"color\":\"#E5ECF6\",\"width\":0.5},\"pattern\":{\"fillmode\":\"overlay\",\"size\":10,\"solidity\":0.2}},\"type\":\"barpolar\"}],\"carpet\":[{\"aaxis\":{\"endlinecolor\":\"#2a3f5f\",\"gridcolor\":\"white\",\"linecolor\":\"white\",\"minorgridcolor\":\"white\",\"startlinecolor\":\"#2a3f5f\"},\"baxis\":{\"endlinecolor\":\"#2a3f5f\",\"gridcolor\":\"white\",\"linecolor\":\"white\",\"minorgridcolor\":\"white\",\"startlinecolor\":\"#2a3f5f\"},\"type\":\"carpet\"}],\"choropleth\":[{\"colorbar\":{\"outlinewidth\":0,\"ticks\":\"\"},\"type\":\"choropleth\"}],\"contour\":[{\"colorbar\":{\"outlinewidth\":0,\"ticks\":\"\"},\"colorscale\":[[0.0,\"#0d0887\"],[0.1111111111111111,\"#46039f\"],[0.2222222222222222,\"#7201a8\"],[0.3333333333333333,\"#9c179e\"],[0.4444444444444444,\"#bd3786\"],[0.5555555555555556,\"#d8576b\"],[0.6666666666666666,\"#ed7953\"],[0.7777777777777778,\"#fb9f3a\"],[0.8888888888888888,\"#fdca26\"],[1.0,\"#f0f921\"]],\"type\":\"contour\"}],\"contourcarpet\":[{\"colorbar\":{\"outlinewidth\":0,\"ticks\":\"\"},\"type\":\"contourcarpet\"}],\"heatmap\":[{\"colorbar\":{\"outlinewidth\":0,\"ticks\":\"\"},\"colorscale\":[[0.0,\"#0d0887\"],[0.1111111111111111,\"#46039f\"],[0.2222222222222222,\"#7201a8\"],[0.3333333333333333,\"#9c179e\"],[0.4444444444444444,\"#bd3786\"],[0.5555555555555556,\"#d8576b\"],[0.6666666666666666,\"#ed7953\"],[0.7777777777777778,\"#fb9f3a\"],[0.8888888888888888,\"#fdca26\"],[1.0,\"#f0f921\"]],\"type\":\"heatmap\"}],\"heatmapgl\":[{\"colorbar\":{\"outlinewidth\":0,\"ticks\":\"\"},\"colorscale\":[[0.0,\"#0d0887\"],[0.1111111111111111,\"#46039f\"],[0.2222222222222222,\"#7201a8\"],[0.3333333333333333,\"#9c179e\"],[0.4444444444444444,\"#bd3786\"],[0.5555555555555556,\"#d8576b\"],[0.6666666666666666,\"#ed7953\"],[0.7777777777777778,\"#fb9f3a\"],[0.8888888888888888,\"#fdca26\"],[1.0,\"#f0f921\"]],\"type\":\"heatmapgl\"}],\"histogram\":[{\"marker\":{\"pattern\":{\"fillmode\":\"overlay\",\"size\":10,\"solidity\":0.2}},\"type\":\"histogram\"}],\"histogram2d\":[{\"colorbar\":{\"outlinewidth\":0,\"ticks\":\"\"},\"colorscale\":[[0.0,\"#0d0887\"],[0.1111111111111111,\"#46039f\"],[0.2222222222222222,\"#7201a8\"],[0.3333333333333333,\"#9c179e\"],[0.4444444444444444,\"#bd3786\"],[0.5555555555555556,\"#d8576b\"],[0.6666666666666666,\"#ed7953\"],[0.7777777777777778,\"#fb9f3a\"],[0.8888888888888888,\"#fdca26\"],[1.0,\"#f0f921\"]],\"type\":\"histogram2d\"}],\"histogram2dcontour\":[{\"colorbar\":{\"outlinewidth\":0,\"ticks\":\"\"},\"colorscale\":[[0.0,\"#0d0887\"],[0.1111111111111111,\"#46039f\"],[0.2222222222222222,\"#7201a8\"],[0.3333333333333333,\"#9c179e\"],[0.4444444444444444,\"#bd3786\"],[0.5555555555555556,\"#d8576b\"],[0.6666666666666666,\"#ed7953\"],[0.7777777777777778,\"#fb9f3a\"],[0.8888888888888888,\"#fdca26\"],[1.0,\"#f0f921\"]],\"type\":\"histogram2dcontour\"}],\"mesh3d\":[{\"colorbar\":{\"outlinewidth\":0,\"ticks\":\"\"},\"type\":\"mesh3d\"}],\"parcoords\":[{\"line\":{\"colorbar\":{\"outlinewidth\":0,\"ticks\":\"\"}},\"type\":\"parcoords\"}],\"pie\":[{\"automargin\":true,\"type\":\"pie\"}],\"scatter\":[{\"marker\":{\"colorbar\":{\"outlinewidth\":0,\"ticks\":\"\"}},\"type\":\"scatter\"}],\"scatter3d\":[{\"line\":{\"colorbar\":{\"outlinewidth\":0,\"ticks\":\"\"}},\"marker\":{\"colorbar\":{\"outlinewidth\":0,\"ticks\":\"\"}},\"type\":\"scatter3d\"}],\"scattercarpet\":[{\"marker\":{\"colorbar\":{\"outlinewidth\":0,\"ticks\":\"\"}},\"type\":\"scattercarpet\"}],\"scattergeo\":[{\"marker\":{\"colorbar\":{\"outlinewidth\":0,\"ticks\":\"\"}},\"type\":\"scattergeo\"}],\"scattergl\":[{\"marker\":{\"colorbar\":{\"outlinewidth\":0,\"ticks\":\"\"}},\"type\":\"scattergl\"}],\"scattermapbox\":[{\"marker\":{\"colorbar\":{\"outlinewidth\":0,\"ticks\":\"\"}},\"type\":\"scattermapbox\"}],\"scatterpolar\":[{\"marker\":{\"colorbar\":{\"outlinewidth\":0,\"ticks\":\"\"}},\"type\":\"scatterpolar\"}],\"scatterpolargl\":[{\"marker\":{\"colorbar\":{\"outlinewidth\":0,\"ticks\":\"\"}},\"type\":\"scatterpolargl\"}],\"scatterternary\":[{\"marker\":{\"colorbar\":{\"outlinewidth\":0,\"ticks\":\"\"}},\"type\":\"scatterternary\"}],\"surface\":[{\"colorbar\":{\"outlinewidth\":0,\"ticks\":\"\"},\"colorscale\":[[0.0,\"#0d0887\"],[0.1111111111111111,\"#46039f\"],[0.2222222222222222,\"#7201a8\"],[0.3333333333333333,\"#9c179e\"],[0.4444444444444444,\"#bd3786\"],[0.5555555555555556,\"#d8576b\"],[0.6666666666666666,\"#ed7953\"],[0.7777777777777778,\"#fb9f3a\"],[0.8888888888888888,\"#fdca26\"],[1.0,\"#f0f921\"]],\"type\":\"surface\"}],\"table\":[{\"cells\":{\"fill\":{\"color\":\"#EBF0F8\"},\"line\":{\"color\":\"white\"}},\"header\":{\"fill\":{\"color\":\"#C8D4E3\"},\"line\":{\"color\":\"white\"}},\"type\":\"table\"}]},\"layout\":{\"annotationdefaults\":{\"arrowcolor\":\"#2a3f5f\",\"arrowhead\":0,\"arrowwidth\":1},\"autotypenumbers\":\"strict\",\"coloraxis\":{\"colorbar\":{\"outlinewidth\":0,\"ticks\":\"\"}},\"colorscale\":{\"diverging\":[[0,\"#8e0152\"],[0.1,\"#c51b7d\"],[0.2,\"#de77ae\"],[0.3,\"#f1b6da\"],[0.4,\"#fde0ef\"],[0.5,\"#f7f7f7\"],[0.6,\"#e6f5d0\"],[0.7,\"#b8e186\"],[0.8,\"#7fbc41\"],[0.9,\"#4d9221\"],[1,\"#276419\"]],\"sequential\":[[0.0,\"#0d0887\"],[0.1111111111111111,\"#46039f\"],[0.2222222222222222,\"#7201a8\"],[0.3333333333333333,\"#9c179e\"],[0.4444444444444444,\"#bd3786\"],[0.5555555555555556,\"#d8576b\"],[0.6666666666666666,\"#ed7953\"],[0.7777777777777778,\"#fb9f3a\"],[0.8888888888888888,\"#fdca26\"],[1.0,\"#f0f921\"]],\"sequentialminus\":[[0.0,\"#0d0887\"],[0.1111111111111111,\"#46039f\"],[0.2222222222222222,\"#7201a8\"],[0.3333333333333333,\"#9c179e\"],[0.4444444444444444,\"#bd3786\"],[0.5555555555555556,\"#d8576b\"],[0.6666666666666666,\"#ed7953\"],[0.7777777777777778,\"#fb9f3a\"],[0.8888888888888888,\"#fdca26\"],[1.0,\"#f0f921\"]]},\"colorway\":[\"#636efa\",\"#EF553B\",\"#00cc96\",\"#ab63fa\",\"#FFA15A\",\"#19d3f3\",\"#FF6692\",\"#B6E880\",\"#FF97FF\",\"#FECB52\"],\"font\":{\"color\":\"#2a3f5f\"},\"geo\":{\"bgcolor\":\"white\",\"lakecolor\":\"white\",\"landcolor\":\"#E5ECF6\",\"showlakes\":true,\"showland\":true,\"subunitcolor\":\"white\"},\"hoverlabel\":{\"align\":\"left\"},\"hovermode\":\"closest\",\"mapbox\":{\"style\":\"light\"},\"paper_bgcolor\":\"white\",\"plot_bgcolor\":\"#E5ECF6\",\"polar\":{\"angularaxis\":{\"gridcolor\":\"white\",\"linecolor\":\"white\",\"ticks\":\"\"},\"bgcolor\":\"#E5ECF6\",\"radialaxis\":{\"gridcolor\":\"white\",\"linecolor\":\"white\",\"ticks\":\"\"}},\"scene\":{\"xaxis\":{\"backgroundcolor\":\"#E5ECF6\",\"gridcolor\":\"white\",\"gridwidth\":2,\"linecolor\":\"white\",\"showbackground\":true,\"ticks\":\"\",\"zerolinecolor\":\"white\"},\"yaxis\":{\"backgroundcolor\":\"#E5ECF6\",\"gridcolor\":\"white\",\"gridwidth\":2,\"linecolor\":\"white\",\"showbackground\":true,\"ticks\":\"\",\"zerolinecolor\":\"white\"},\"zaxis\":{\"backgroundcolor\":\"#E5ECF6\",\"gridcolor\":\"white\",\"gridwidth\":2,\"linecolor\":\"white\",\"showbackground\":true,\"ticks\":\"\",\"zerolinecolor\":\"white\"}},\"shapedefaults\":{\"line\":{\"color\":\"#2a3f5f\"}},\"ternary\":{\"aaxis\":{\"gridcolor\":\"white\",\"linecolor\":\"white\",\"ticks\":\"\"},\"baxis\":{\"gridcolor\":\"white\",\"linecolor\":\"white\",\"ticks\":\"\"},\"bgcolor\":\"#E5ECF6\",\"caxis\":{\"gridcolor\":\"white\",\"linecolor\":\"white\",\"ticks\":\"\"}},\"title\":{\"x\":0.05},\"xaxis\":{\"automargin\":true,\"gridcolor\":\"white\",\"linecolor\":\"white\",\"ticks\":\"\",\"title\":{\"standoff\":15},\"zerolinecolor\":\"white\",\"zerolinewidth\":2},\"yaxis\":{\"automargin\":true,\"gridcolor\":\"white\",\"linecolor\":\"white\",\"ticks\":\"\",\"title\":{\"standoff\":15},\"zerolinecolor\":\"white\",\"zerolinewidth\":2}}},\"showlegend\":false},                        {\"responsive\": true}                    ).then(function(){\n",
              "                            \n",
              "var gd = document.getElementById('e8e3bcbb-ef2b-4bb2-aa6c-cc815727196a');\n",
              "var x = new MutationObserver(function (mutations, observer) {{\n",
              "        var display = window.getComputedStyle(gd).display;\n",
              "        if (!display || display === 'none') {{\n",
              "            console.log([gd, 'removed!']);\n",
              "            Plotly.purge(gd);\n",
              "            observer.disconnect();\n",
              "        }}\n",
              "}});\n",
              "\n",
              "// Listen for the removal of the full notebook cells\n",
              "var notebookContainer = gd.closest('#notebook-container');\n",
              "if (notebookContainer) {{\n",
              "    x.observe(notebookContainer, {childList: true});\n",
              "}}\n",
              "\n",
              "// Listen for the clearing of the current output cell\n",
              "var outputEl = gd.closest('.output');\n",
              "if (outputEl) {{\n",
              "    x.observe(outputEl, {childList: true});\n",
              "}}\n",
              "\n",
              "                        })                };                            </script>        </div>\n",
              "</body>\n",
              "</html>"
            ]
          },
          "metadata": {}
        }
      ]
    },
    {
      "cell_type": "code",
      "source": [
        "joints_rotating"
      ],
      "metadata": {
        "colab": {
          "base_uri": "https://localhost:8080/"
        },
        "id": "BYoBu_ubFYHk",
        "outputId": "8db0f620-9dc6-443e-b569-b17c47d68d4b"
      },
      "execution_count": 26,
      "outputs": [
        {
          "output_type": "execute_result",
          "data": {
            "text/plain": [
              "array(['left_ellbow_angle', 'left_shoulder_angle', 'right_hip_angle',\n",
              "       'left_knee_angle'], dtype='<U20')"
            ]
          },
          "metadata": {},
          "execution_count": 26
        }
      ]
    },
    {
      "cell_type": "code",
      "source": [
        "joints_not_rotating"
      ],
      "metadata": {
        "colab": {
          "base_uri": "https://localhost:8080/"
        },
        "id": "1dLo_D9xF2eU",
        "outputId": "64a92288-acf8-437d-9db3-b12376b5b4da"
      },
      "execution_count": 27,
      "outputs": [
        {
          "output_type": "execute_result",
          "data": {
            "text/plain": [
              "array(['right_ellbow_angle', 'right_shoulder_angle', 'left_hip_angle',\n",
              "       'right_knee_angle'], dtype='<U20')"
            ]
          },
          "metadata": {},
          "execution_count": 27
        }
      ]
    },
    {
      "cell_type": "markdown",
      "source": [
        "## Add-on: Compiled as Class"
      ],
      "metadata": {
        "id": "IGbCKEAeMXzW"
      }
    },
    {
      "cell_type": "code",
      "source": [
        "#generate new idx\n",
        "class exerciseData:\n",
        "  \n",
        "  def __init__(self,data,exercise_id):\n",
        "    #instantiate object with exercise data\n",
        "    self.exercise_id = exercise_id\n",
        "    self.data = data\n",
        "    self.name = data.name.iloc[self.exercise_id]\n",
        "    self.subset = self.data.iloc[self.exercise_id]\n",
        "    self.idx2 = np.array(['left_ellbow_angle','right_ellbow_angle','left_shoulder_angle','right_shoulder_angle',\n",
        "               'left_hip_angle','right_hip_angle','left_knee_angle','right_knee_angle'])\n",
        "    self.getExerciseData()    \n",
        "    #call function and calculate angles for all joints\n",
        "    self.left_ellbow_angle = self.getJointAngles(self.left_ellbow,self.left_shoulder,self.left_wrist)\n",
        "    self.left_shoulder_angle = self.getJointAngles(self.left_shoulder,self.left_ellbow,self.left_hip)\n",
        "    self.left_hip_angle = self.getJointAngles(self.left_hip,self.left_shoulder,self.left_knee)\n",
        "    self.left_knee_angle = self.getJointAngles(self.left_knee,self.left_hip,self.left_ankle)\n",
        "    self.right_ellbow_angle = self.getJointAngles(self.right_ellbow,self.right_shoulder,self.right_wrist)\n",
        "    self.right_shoulder_angle = self.getJointAngles(self.right_shoulder,self.right_ellbow,self.right_hip)\n",
        "    self.right_hip_angle = self.getJointAngles(self.right_hip,self.right_shoulder,self.right_knee)\n",
        "    self.right_knee_angle = self.getJointAngles(self.right_knee,self.right_hip,self.right_ankle)\n",
        "\n",
        "    #get rotating body parts\n",
        "    self.joints_rotating, self.joints_not_rotating = self.getMaxRotationJoints()\n",
        "\n",
        "    #get moving body parts\n",
        "    self.joints_moving, self.joints_not_moving = self.getMaxMotionJoints()\n",
        "\n",
        "  ######### transform data and generate additional data points for exercise ID (back, hip midpoints) #########\n",
        "  def getExerciseData(self):\n",
        "    #define subset to get data for only one exercise\n",
        "    #separate xyz data points \n",
        "    x_data = self.subset[cols[1::3]]\n",
        "    y_data = self.subset[cols[2::3]]\n",
        "    z_data = self.subset[cols[3::3]]\n",
        "    #add spine data points (midpoint between shoulder and hips)\n",
        "    x_data['xX_midpoint_neck'] = (x_data.xX_left_shoulder+x_data.xX_right_shoulder)/2\n",
        "    x_data['xX_midpoint_hip'] = (x_data.xX_left_hip+x_data.xX_right_hip)/2\n",
        "    x_data['xX_midpoint_back'] = (x_data.xX_midpoint_neck+x_data.xX_midpoint_hip)/2\n",
        "    y_data['yY_midpoint_neck'] = (y_data.yY_left_shoulder+y_data.yY_right_shoulder)/2\n",
        "    y_data['yY_midpoint_hip'] = (y_data.yY_left_hip+y_data.yY_right_hip)/2\n",
        "    y_data['yY_midpoint_back'] = (y_data.yY_midpoint_neck+y_data.yY_midpoint_hip)/2\n",
        "    z_data['zZ_midpoint_neck'] = (z_data.zZ_left_shoulder+z_data.zZ_right_shoulder)/2\n",
        "    z_data['zZ_midpoint_hip'] = (z_data.zZ_left_hip+z_data.zZ_right_hip)/2\n",
        "    z_data['zZ_midpoint_back'] = (z_data.zZ_midpoint_neck+z_data.zZ_midpoint_hip)/2\n",
        "    #stack and reshape\n",
        "    self.x = np.stack(x_data).transpose()\n",
        "    self.y = np.stack(y_data).transpose()\n",
        "    self.z = np.stack(z_data).transpose()\n",
        "    self.ex_data = np.stack([self.x,self.y,self.z]).transpose()\n",
        "    #define joints tripple\n",
        "    self.left_shoulder = self.ex_data[0]\n",
        "    self.right_shoulder = self.ex_data[1]\n",
        "    self.left_ellbow = self.ex_data[2]\n",
        "    self.right_ellbow = self.ex_data[3]\n",
        "    self.left_wrist = self.ex_data[4]\n",
        "    self.right_wrist = self.ex_data[5]\n",
        "    self.left_hip = self.ex_data[6]\n",
        "    self.right_hip = self.ex_data[7]\n",
        "    self.left_knee = self.ex_data[8]\n",
        "    self.right_knee = self.ex_data[9]\n",
        "    self.left_ankle = self.ex_data[10]\n",
        "    self.right_ankle = self.ex_data[11]\n",
        "    self.midpoint_neck = self.ex_data[12]\n",
        "    self.midpoint_hip = self.ex_data[13]\n",
        "    self.midpoint_back = self.ex_data[14]\n",
        "\n",
        "  ######### calculate Angles for all joints #########\n",
        "  def getJointAngles(self,joint1,joint2,joint3):\n",
        "    #get edge distances between joints - where as joint1's angle is of interest\n",
        "    a = np.sqrt(np.sum((joint2 - joint3)**2,axis=1))\n",
        "    b = np.sqrt(np.sum((joint3 - joint1)**2,axis=1))\n",
        "    c = np.sqrt(np.sum((joint2 - joint1)**2,axis=1))\n",
        "    #calculate angle using cosine law\n",
        "    cos_a = (c**2 + b**2 - a**2) / (2*b*c)\n",
        "    joint_angles = np.degrees(np.arccos(cos_a))\n",
        "    return joint_angles\n",
        "\n",
        "  ######### get Joints with maximum Rotation #########\n",
        "  def getMaxRotationJoints(self):\n",
        "    joint_angles = np.stack([self.left_ellbow_angle,self.right_ellbow_angle,self.left_shoulder_angle,self.right_shoulder_angle,self.left_hip_angle,self.right_hip_angle,self.left_knee_angle,self.right_knee_angle])\n",
        "    #get absolute angle differences between timesteps\n",
        "    joint_angles_diff = abs(np.diff(joint_angles))\n",
        "    #calculate median value for each distribution\n",
        "    median_joint_angles_diff = np.median(joint_angles_diff,axis=1)\n",
        "    #classify moving and non-moving joints (cut-off at 0.5 Quantile)\n",
        "    joints_rotating = self.idx2[:8][median_joint_angles_diff >= np.quantile(median_joint_angles_diff,0.5)]\n",
        "    joints_not_rotating = self.idx2[:8][median_joint_angles_diff < np.quantile(median_joint_angles_diff,0.5)]\n",
        "    return joints_rotating, joints_not_rotating\n",
        "\n",
        "  ######### for each joint generate motion data as time series (delta position of joint at t1 - t0) #########\n",
        "  def jointMotion(self,joint_data):\n",
        "    joint_motion = []\n",
        "    for i in range(0,len(joint_data)-1):\n",
        "      joint_motion.append(np.linalg.norm(joint_data[i+1] - joint_data[i]))\n",
        "    return joint_motion\n",
        "  \n",
        "  ######### get Joints with maximum Motion #########\n",
        "  def getMaxMotionJoints(self):\n",
        "    exercise = self.ex_data\n",
        "    values = [statistics.median(self.jointMotion(exercise[i][:30])) for i in range(0,exercise.shape[0])] #note: Analysis is limited to first 30 Data Points to evade outliers due to erratic motions\n",
        "    motion_score = dict(zip(self.subset.index[1::3],values))\n",
        "    motion_score = sorted(motion_score.items(), key=lambda item: item[1],reverse=True)\n",
        "    motion_score = [tuple[0] for tuple in motion_score]\n",
        "    motion_score = [i[3:] for i in motion_score]\n",
        "    moving_joints = motion_score[:4]\n",
        "    not_moving_joints = motion_score[4:]\n",
        "    return moving_joints, not_moving_joints"
      ],
      "metadata": {
        "id": "YQAqs3fYT14f"
      },
      "execution_count": 5,
      "outputs": []
    },
    {
      "cell_type": "code",
      "source": [
        "#create an object and print attributes\n",
        "a = exerciseData(df,20)\n",
        "print('exercise name:',a.name)\n",
        "print('ordered moving joints: ',a.joints_moving)\n",
        "print('ordered not moving joints',a.joints_not_moving)\n",
        "print('ordered rotating joints:', a.joints_rotating)\n",
        "print('ordered not rotating joints:', a.joints_not_rotating)"
      ],
      "metadata": {
        "colab": {
          "base_uri": "https://localhost:8080/"
        },
        "id": "CEo8yofQAr6W",
        "outputId": "e5b3e430-bcd8-4115-9775-313d75eed284"
      },
      "execution_count": 14,
      "outputs": [
        {
          "output_type": "stream",
          "name": "stdout",
          "text": [
            "exercise name: dumbbell lunges\n",
            "ordered moving joints:  ['right_ankle', 'right_knee', 'left_ankle', 'left_wrist']\n",
            "ordered not moving joints ['right_wrist', 'left_knee', 'left_elbow', 'right_elbow', 'left_shoulder', 'right_shoulder', 'left_hip', 'right_hip']\n",
            "ordered rotating joints: ['left_hip_angle' 'right_hip_angle' 'left_knee_angle' 'right_knee_angle']\n",
            "ordered not rotating joints: ['left_ellbow_angle' 'right_ellbow_angle' 'left_shoulder_angle'\n",
            " 'right_shoulder_angle']\n"
          ]
        }
      ]
    },
    {
      "cell_type": "code",
      "source": [
        "#function to iterate over all exercises\n",
        "def generateDf():\n",
        "  name = []\n",
        "  max_motion = []\n",
        "  max_rotation = []\n",
        "  for i in range(0,len(df.index)):\n",
        "    obj = exerciseData(df,i)\n",
        "    name.append(obj.name)\n",
        "    max_motion.append(np.asarray([obj.joints_moving]))\n",
        "    max_rotation.append(obj.joints_rotating)\n",
        "  return np.asarray([name]), np.asarray([max_motion]), np.asarray([max_rotation])\n",
        "\n",
        "#generate dataframe\n",
        "name, max_motion, max_rotation = generateDf()\n",
        "\n",
        "#reshape max motion data as 3d array\n",
        "max_motion = np.reshape(max_motion,max_motion.shape[1::2])\n",
        "\n",
        "#reshape max rotation data as 3d array\n",
        "max_rotation = np.reshape(max_rotation,max_rotation.shape[1:])\n",
        "\n",
        "#generate Data Frame with binary labels \n",
        "rotation_df = pd.DataFrame(max_rotation,columns=['rotation1','rotation2','rotation3','rotation4'])\n",
        "motion_df = pd.DataFrame(max_motion,columns=['motion1','motion2','motion3','motion4'])\n",
        "full_df = rotation_df.join(motion_df)\n",
        "full_df.head(2)"
      ],
      "metadata": {
        "id": "sW-oR3g-afz8",
        "colab": {
          "base_uri": "https://localhost:8080/",
          "height": 111
        },
        "outputId": "c737d2e9-a350-4245-df32-d438a620d5a0"
      },
      "execution_count": 11,
      "outputs": [
        {
          "output_type": "execute_result",
          "data": {
            "text/plain": [
              "              rotation1             rotation2        rotation3  \\\n",
              "0  right_shoulder_angle        left_hip_angle  right_hip_angle   \n",
              "1   left_shoulder_angle  right_shoulder_angle   left_hip_angle   \n",
              "\n",
              "          rotation4      motion1      motion2      motion3      motion4  \n",
              "0  right_knee_angle  right_wrist  right_ankle  right_elbow   right_knee  \n",
              "1   right_hip_angle   left_wrist  right_wrist   left_elbow  right_elbow  "
            ],
            "text/html": [
              "\n",
              "  <div id=\"df-5f3b08e6-20ff-4283-8f96-a3f68de9c87e\">\n",
              "    <div class=\"colab-df-container\">\n",
              "      <div>\n",
              "<style scoped>\n",
              "    .dataframe tbody tr th:only-of-type {\n",
              "        vertical-align: middle;\n",
              "    }\n",
              "\n",
              "    .dataframe tbody tr th {\n",
              "        vertical-align: top;\n",
              "    }\n",
              "\n",
              "    .dataframe thead th {\n",
              "        text-align: right;\n",
              "    }\n",
              "</style>\n",
              "<table border=\"1\" class=\"dataframe\">\n",
              "  <thead>\n",
              "    <tr style=\"text-align: right;\">\n",
              "      <th></th>\n",
              "      <th>rotation1</th>\n",
              "      <th>rotation2</th>\n",
              "      <th>rotation3</th>\n",
              "      <th>rotation4</th>\n",
              "      <th>motion1</th>\n",
              "      <th>motion2</th>\n",
              "      <th>motion3</th>\n",
              "      <th>motion4</th>\n",
              "    </tr>\n",
              "  </thead>\n",
              "  <tbody>\n",
              "    <tr>\n",
              "      <th>0</th>\n",
              "      <td>right_shoulder_angle</td>\n",
              "      <td>left_hip_angle</td>\n",
              "      <td>right_hip_angle</td>\n",
              "      <td>right_knee_angle</td>\n",
              "      <td>right_wrist</td>\n",
              "      <td>right_ankle</td>\n",
              "      <td>right_elbow</td>\n",
              "      <td>right_knee</td>\n",
              "    </tr>\n",
              "    <tr>\n",
              "      <th>1</th>\n",
              "      <td>left_shoulder_angle</td>\n",
              "      <td>right_shoulder_angle</td>\n",
              "      <td>left_hip_angle</td>\n",
              "      <td>right_hip_angle</td>\n",
              "      <td>left_wrist</td>\n",
              "      <td>right_wrist</td>\n",
              "      <td>left_elbow</td>\n",
              "      <td>right_elbow</td>\n",
              "    </tr>\n",
              "  </tbody>\n",
              "</table>\n",
              "</div>\n",
              "      <button class=\"colab-df-convert\" onclick=\"convertToInteractive('df-5f3b08e6-20ff-4283-8f96-a3f68de9c87e')\"\n",
              "              title=\"Convert this dataframe to an interactive table.\"\n",
              "              style=\"display:none;\">\n",
              "        \n",
              "  <svg xmlns=\"http://www.w3.org/2000/svg\" height=\"24px\"viewBox=\"0 0 24 24\"\n",
              "       width=\"24px\">\n",
              "    <path d=\"M0 0h24v24H0V0z\" fill=\"none\"/>\n",
              "    <path d=\"M18.56 5.44l.94 2.06.94-2.06 2.06-.94-2.06-.94-.94-2.06-.94 2.06-2.06.94zm-11 1L8.5 8.5l.94-2.06 2.06-.94-2.06-.94L8.5 2.5l-.94 2.06-2.06.94zm10 10l.94 2.06.94-2.06 2.06-.94-2.06-.94-.94-2.06-.94 2.06-2.06.94z\"/><path d=\"M17.41 7.96l-1.37-1.37c-.4-.4-.92-.59-1.43-.59-.52 0-1.04.2-1.43.59L10.3 9.45l-7.72 7.72c-.78.78-.78 2.05 0 2.83L4 21.41c.39.39.9.59 1.41.59.51 0 1.02-.2 1.41-.59l7.78-7.78 2.81-2.81c.8-.78.8-2.07 0-2.86zM5.41 20L4 18.59l7.72-7.72 1.47 1.35L5.41 20z\"/>\n",
              "  </svg>\n",
              "      </button>\n",
              "      \n",
              "  <style>\n",
              "    .colab-df-container {\n",
              "      display:flex;\n",
              "      flex-wrap:wrap;\n",
              "      gap: 12px;\n",
              "    }\n",
              "\n",
              "    .colab-df-convert {\n",
              "      background-color: #E8F0FE;\n",
              "      border: none;\n",
              "      border-radius: 50%;\n",
              "      cursor: pointer;\n",
              "      display: none;\n",
              "      fill: #1967D2;\n",
              "      height: 32px;\n",
              "      padding: 0 0 0 0;\n",
              "      width: 32px;\n",
              "    }\n",
              "\n",
              "    .colab-df-convert:hover {\n",
              "      background-color: #E2EBFA;\n",
              "      box-shadow: 0px 1px 2px rgba(60, 64, 67, 0.3), 0px 1px 3px 1px rgba(60, 64, 67, 0.15);\n",
              "      fill: #174EA6;\n",
              "    }\n",
              "\n",
              "    [theme=dark] .colab-df-convert {\n",
              "      background-color: #3B4455;\n",
              "      fill: #D2E3FC;\n",
              "    }\n",
              "\n",
              "    [theme=dark] .colab-df-convert:hover {\n",
              "      background-color: #434B5C;\n",
              "      box-shadow: 0px 1px 3px 1px rgba(0, 0, 0, 0.15);\n",
              "      filter: drop-shadow(0px 1px 2px rgba(0, 0, 0, 0.3));\n",
              "      fill: #FFFFFF;\n",
              "    }\n",
              "  </style>\n",
              "\n",
              "      <script>\n",
              "        const buttonEl =\n",
              "          document.querySelector('#df-5f3b08e6-20ff-4283-8f96-a3f68de9c87e button.colab-df-convert');\n",
              "        buttonEl.style.display =\n",
              "          google.colab.kernel.accessAllowed ? 'block' : 'none';\n",
              "\n",
              "        async function convertToInteractive(key) {\n",
              "          const element = document.querySelector('#df-5f3b08e6-20ff-4283-8f96-a3f68de9c87e');\n",
              "          const dataTable =\n",
              "            await google.colab.kernel.invokeFunction('convertToInteractive',\n",
              "                                                     [key], {});\n",
              "          if (!dataTable) return;\n",
              "\n",
              "          const docLinkHtml = 'Like what you see? Visit the ' +\n",
              "            '<a target=\"_blank\" href=https://colab.research.google.com/notebooks/data_table.ipynb>data table notebook</a>'\n",
              "            + ' to learn more about interactive tables.';\n",
              "          element.innerHTML = '';\n",
              "          dataTable['output_type'] = 'display_data';\n",
              "          await google.colab.output.renderOutput(dataTable, element);\n",
              "          const docLink = document.createElement('div');\n",
              "          docLink.innerHTML = docLinkHtml;\n",
              "          element.appendChild(docLink);\n",
              "        }\n",
              "      </script>\n",
              "    </div>\n",
              "  </div>\n",
              "  "
            ]
          },
          "metadata": {},
          "execution_count": 11
        }
      ]
    },
    {
      "cell_type": "markdown",
      "source": [
        "## Add-on: Classification"
      ],
      "metadata": {
        "id": "IBs4guxDyiIK"
      }
    },
    {
      "cell_type": "code",
      "source": [
        "#one hot encoding of categorical variables\n",
        "encoded_df = pd.get_dummies(full_df).join(df.name)\n",
        "\n",
        "#replicate the data n times\n",
        "encoded_df = pd.concat([encoded_df]*100)\n",
        "\n",
        "#train_test_split\n",
        "from sklearn.model_selection import train_test_split\n",
        "X = encoded_df[encoded_df.columns[:len(encoded_df.columns)-1]]\n",
        "y = encoded_df[encoded_df.columns[len(encoded_df.columns)-1]]\n",
        "X_train, X_test, y_train, y_test = train_test_split(X,y,train_size=0.8,shuffle=True)\n",
        "\n",
        "#train support vector\n",
        "from sklearn.svm import SVC\n",
        "clf = SVC(gamma='auto')\n",
        "clf.fit(X_train, y_train)\n",
        "\n",
        "#evalute support \n",
        "clf.score(X_test,y_test)"
      ],
      "metadata": {
        "colab": {
          "base_uri": "https://localhost:8080/"
        },
        "id": "ufKIStTpMTdt",
        "outputId": "6cccba06-6c18-4eac-f540-fa0f97b656a8"
      },
      "execution_count": 31,
      "outputs": [
        {
          "output_type": "execute_result",
          "data": {
            "text/plain": [
              "0.9391666666666667"
            ]
          },
          "metadata": {},
          "execution_count": 31
        }
      ]
    }
  ]
}